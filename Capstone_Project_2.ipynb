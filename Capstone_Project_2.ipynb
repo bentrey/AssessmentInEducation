{
 "cells": [
  {
   "cell_type": "markdown",
   "metadata": {},
   "source": [
    "<p>Ben Trey<br>\n",
    "Project: Capstone Project 1: Exploratory Data Analysis<br>\n",
    "Data Science Track<br>\n",
    "2019/10/16<br>\n",
    "</p>"
   ]
  },
  {
   "cell_type": "markdown",
   "metadata": {},
   "source": [
    "<p><b>Overview:</b><br>\n",
    "This project explores the relationship between individualized education and student growth.<br><br>\n",
    "    \n",
    "<b>Question 1:</b><br>\n",
    "Are there variables that are particularly significant in terms of explaining the answer to your project question?<br>\n",
    "The variables of interest are the homework grades, the lists of problems given to each student, and the difficulty of each problem.<br> \n",
    "\n",
    "<b>Question 2:</b><br>\n",
    "Are there strong correlations between pairs of independent variables or between an independent and a dependent variable?<br>\n",
    "There is a strong correlation between the problems chosen and the students homework scores. I examined the effect of giving students problems they got wrong in previous homeworks. As each student has a seperate ability that improves when they complete a problem, I suspected reviewing problems a student got wrong in the previous 3 homeworks would improve their score. I discovered giving the students problems with topics they struggled with caused them to learn at a slower rate. At the end of the semester the final homework showed a statistically signifigant difference between the two methods. \n",
    "\n",
    "<b>Question 3:</b><br>\n",
    "What are the most appropriate tests to use to analyse these relationships?<br>\n",
    "To test the statistical signifigance between the means of the data sets I used the bootstrap method. \n",
    "</p>"
   ]
  },
  {
   "cell_type": "markdown",
   "metadata": {},
   "source": [
    "<h1>Simulation Code</h1>"
   ]
  },
  {
   "cell_type": "code",
   "execution_count": 3,
   "metadata": {},
   "outputs": [],
   "source": [
    "import numpy as np\n",
    "import pandas as pd\n",
    "import matplotlib.pyplot as plt\n",
    "import math\n",
    "import random\n",
    "import sys\n",
    "import warnings\n",
    "from tqdm import tqdm_notebook as tqdm\n",
    "from sklearn.model_selection import train_test_split\n",
    "from sklearn.linear_model import LogisticRegression\n",
    "from sklearn.metrics import accuracy_score\n",
    "from sklearn.ensemble import RandomForestRegressor\n",
    "from sklearn.naive_bayes import MultinomialNB"
   ]
  },
  {
   "cell_type": "markdown",
   "metadata": {},
   "source": [
    "<h1>Classes</h1>"
   ]
  },
  {
   "cell_type": "code",
   "execution_count": 4,
   "metadata": {},
   "outputs": [],
   "source": [
    "directory='/mnt/c/users/我的电脑/desktop/springboard/capstone'\n",
    "\n",
    "#Student will simulate a students performance \n",
    "class Student:\n",
    "    def __init__(self, school_quality, email):\n",
    "        #ability represents a student's baseline math skills\n",
    "        #intelligence represents a student's potential for growth\n",
    "        #motivation represents a student's motivation for growth \n",
    "        #consistency represents a student's consistency in performance\n",
    "        self.email = email\n",
    "        self.ability = school_quality - 1.0 + 2.0*np.random.random()\n",
    "        self.intelligence = school_quality - 1.0 + 2.0*np.random.random()\n",
    "        self.motivation = school_quality - 1.0 + 2.0*np.random.random()\n",
    "        self.consistency = school_quality - 1.0 + 2.0*np.random.random()\n",
    "        self.topics={}\n",
    "        self.C_list=[1.0,1.0,1.0]\n",
    "        \n",
    "    #problemUpdate updates the student's math ability after a correct problem    \n",
    "    def problem_update(self, correct, topic, old_topic, difficulty):\n",
    "        if not topic in self.topics:\n",
    "            self.topics[str(topic)]=-1.0+2.0*np.random.random()\n",
    "        if not old_topic in self.topics:\n",
    "            self.topics[str(old_topic)]=-1.0+2.0*np.random.random()\n",
    "        if correct:\n",
    "            #increase intelligence with a certain probability\n",
    "            #increase consistency with a certain probability\n",
    "            #increase motivation with a certain probability\n",
    "            if np.exp(self.ability) / (1+np.exp(self.ability)) > np.random.random():\n",
    "                self.ability = self.ability + difficulty/300.0\n",
    "            if np.exp(self.intelligence) / (1+np.exp(self.intelligence)) > np.random.random():\n",
    "                self.intelligence = self.intelligence + difficulty/3000.0\n",
    "            if np.exp(self.consistency)/(1+np.exp(self.consistency)) > np.random.random():\n",
    "                self.consistency = self.consistency + difficulty/3000.0\n",
    "            if np.exp(self.motivation)/(1+np.exp(self.motivation)) > np.random.random():\n",
    "                self.motivation = self.motivation + difficulty/300.0\n",
    "            if np.exp(self.topics[topic])/(1+np.exp(self.topics[topic])) >np.random.random():\n",
    "                self.topics[topic] = self.topics[topic]+difficulty/300.0\n",
    "            if np.exp(self.topics[old_topic])/(1+np.exp(self.topics[str(old_topic)])) >np.random.random():\n",
    "                self.topics[old_topic] = self.topics[old_topic]+difficulty/300.0\n",
    "        else:\n",
    "            #decrease ability with a certain probability\n",
    "            #decrease intelligence with a certain probability\n",
    "            #decrease consistency with a certain probability\n",
    "            #decrease motivation with a certain probability\n",
    "            if np.exp(self.ability)/(1+np.exp(self.ability)) < np.random.random():\n",
    "                self.math_ability = self.ability - difficulty/ 300.0\n",
    "            if np.exp(self.intelligence)/(1+np.exp(self.intelligence)) < np.random.random():\n",
    "                self.intelligence = self.intelligence - difficulty/3000.0\n",
    "            if np.exp(self.consistency)/(1+np.exp(self.consistency)) < np.random.random():\n",
    "                self.consistency = self.consistency - difficulty/3000.0\n",
    "            if np.exp(self.motivation)/(1+np.exp(self.motivation)) < np.random.random():\n",
    "                self.motivation = self.motivation - difficulty/300.0\n",
    "            if np.exp(self.topics[topic])/(1+np.exp(self.topics[topic])) < np.random.random():\n",
    "                self.topics[topic] = self.topics[topic] - difficulty/300.0\n",
    "            if np.exp(self.topics[old_topic])/(1+np.exp(self.topics[old_topic])) < np.random.random():\n",
    "                self.topics[old_topic] = self.topics[old_topic] - difficulty/300.0\n",
    "\n",
    "#School is a holder for students\n",
    "class School:\n",
    "    def __init__(self,name):\n",
    "        self.name = name\n",
    "        self.school_quality=np.random.random()\n",
    "        self.students = {}\n",
    "\n",
    "#Homework is a holder for problems\n",
    "class Homework:\n",
    "    def __init__(self,number):\n",
    "        self.number = number\n",
    "        self.problem_set = []\n",
    "        self.topics = set()\n",
    "        \n",
    "#Problem simulates a problem\n",
    "class Problem:\n",
    "    def __init__(self, topic, old_topic, discipline, difficulty):\n",
    "        self.topic = str(topic)\n",
    "        self.old_topic = str(old_topic)\n",
    "        self.discipline = discipline\n",
    "        self.difficulty = difficulty\n",
    "\n",
    "#Student_Profile holds the students info seperately from their attributes \n",
    "class Student_Profile:\n",
    "    def __init__(self, real_name, user_name, password, email, school):\n",
    "        self.real_name = real_name\n",
    "        self.user_name = user_name\n",
    "        self.password = password\n",
    "        self.email = email\n",
    "        self.school = school \n",
    "\n",
    "#Homework_Holder holds the homeworks\n",
    "class Homework_Holder:\n",
    "    def __init__(self):\n",
    "        self.homeworks={}\n",
    "\n",
    "#user_name_creator makes the user names for the students\n",
    "def user_name_creator():\n",
    "    pre=['dank', 'snarky', 'lunar', 'fiesty', 'fruity', 'spicy', 'spikey', 'slippery', 'sleepy', \\\n",
    "        'spooky', 'blinking', 'burping', 'sugary', 'dark', 'dinky', 'droopy', 'blind', 'hairy', \\\n",
    "        'hip', 'lame', 'fiery']\n",
    "    fix=['tiger', 'shark', 'wheels', 'nightmare', 'guitar', 'pants', 'cat', 'blinker', 'bum', \\\n",
    "        'bacon', 'stinker', 'stripe', 'horse', 'monkey', 'popeye', 'eyes', 'moves', 'figher', \\\n",
    "        'liner', 'drifter', 'docker']\n",
    "    return np.random.choice(pre) + np.random.choice(fix) + str(np.random.randint(1,1000))\n",
    "\n",
    "#password_creator makes a password\n",
    "def password_creator():\n",
    "    chars = 'abcdefghijklmnopqrstuvwxyzABCDEFGHIJKLMNOPQRSTUVWXYZ1234567890!@#$%^&*'\n",
    "    password = ''\n",
    "    while len(password) < 10:\n",
    "        password += chars[np.random.randint(0,len(chars)-1)]\n",
    "    return password\n",
    "\n",
    "#real_name_creator makes a real name\n",
    "def real_name_creator():\n",
    "    first = ['Abe', 'Michael', 'Blanche', 'Bobby', 'Johnny', 'Ryan', 'Jasmine', 'Sarah', 'Jenny', \\\n",
    "        'Josey', 'Eva', 'Wendy', 'Kelly', 'Wayne', 'Larry', 'Cindy', 'Sunny', 'Yolanda', 'Coco', \\\n",
    "        'Helen', 'Barette', 'Judy', 'Teddy', 'Frank', 'Victor', 'Yvonne', 'Howard', 'Richard', \\\n",
    "        'Angel', 'Harry', 'Sammy', 'Alex', 'Albert', 'David', 'Lester', 'Maddy', 'Patrick', \\\n",
    "        'Holly', 'Dan', 'Matt', 'Violet', 'Skylar', 'Patricia', 'Oscar', 'Edgar', 'Owen', 'Eric', \\\n",
    "        'Grace', 'Amy', 'Otto', 'Gunther', 'Franz', 'Lina', 'Nora','Angela', 'Olivia','Oliver']\n",
    "    last = ['Zhang', 'Zhu', 'Ma', 'Xu', 'Wang', 'Liu', 'Li', 'Lin', 'Smith', 'Jones', 'Jackson', \\\n",
    "        'James', 'Johnson', 'Oneal', 'Riley', 'Maxwell', 'Baker', 'Lenz', 'Goldstein', 'Feldman', \\\n",
    "        'Rothschild', 'Kruger', 'Lowenstein', 'Young', 'Parker', 'Morgan', 'Barker', 'Dunn', \\\n",
    "        'Bradley' 'Woods', 'Jordan', 'McGrady', 'Austin', 'Hogan', 'McGuiness', 'Park']\n",
    "    return np.random.choice(first) + ' ' + np.random.choice(last)\n",
    "\n",
    "#email_creator creates an email\n",
    "def email_creator():\n",
    "    pre = ['dirty', 'milky', 'fishy', 'slimy', 'used', 'old', 'tired', 'slightly', 'mostly', \\\n",
    "        'found', 'lost', 'new', 'freshy', 'daily', 'buried', 'acient', 'retired', 'deep', 'moist', \\\n",
    "        'dry', 'hot', 'cold', 'folding', 'extra', 'replacement', 'clamy', 'soiled']\n",
    "    fix = ['bread', 'beans', 'bike', 'tire', 'blanket', 'rug', 'window', 'chrysler', 'jeep', \\\n",
    "        'sub', 'drum', 'snake', 'shoes', 'shirt', 'hat', 'jug', 'shack', 'tide', 'spice', 'cola', \\\n",
    "        'cup', 'skates']\n",
    "    provider = ['yahoo.com', 'gmail.com', 'outlook.com', 'qq.com', '163.com']\n",
    "    return np.random.choice(pre) + np.random.choice(fix) + str(np.random.randint(1,1000)) + '@' \\\n",
    "        + np.random.choice(provider)"
   ]
  },
  {
   "cell_type": "markdown",
   "metadata": {},
   "source": [
    "<h1>Hash Lists</h1>"
   ]
  },
  {
   "cell_type": "code",
   "execution_count": 5,
   "metadata": {},
   "outputs": [],
   "source": [
    "#creates a homework problem list based on a student\n",
    "def list_hash(email,number_of_problems,number_to_do):\n",
    "    problems=[]\n",
    "    value = hash(email)\n",
    "    problem_indices = list(range(number_of_problems))\n",
    "    while len(problems) < number_to_do and len(problem_indices) > 0:\n",
    "        problems.append(problem_indices.pop(value%len(problem_indices)))\n",
    "    problems.sort()\n",
    "    return problems\n",
    "\n",
    "def list_hash_focus(data_frames, email,number_of_problems,number_to_do,homework_number,homework_data):\n",
    "    if homework_number<5:\n",
    "        problems=list_hash(email,number_of_problems,number_to_do)\n",
    "    else:\n",
    "        focus_topics=[]\n",
    "        line=homework_data[homework_data['homework_number']==homework_number]\n",
    "        possible_problems=list(range(number_of_problems))\n",
    "        for n in range(3):\n",
    "            homework_scores = data_frames[n]\n",
    "            scores=list(homework_scores[homework_scores['email']==email].values[0][1:])\n",
    "            homework_line=homework_data[homework_data['homework_number']==homework_number-3+n]\n",
    "            for m in range(len(scores)):\n",
    "                topic=homework_line['p'+str(m+1)+'t'].values[0]\n",
    "                old_topic=homework_line['p'+str(m+1)+'ot'].values[0]\n",
    "                if scores[m]==0 and not topic in focus_topics:\n",
    "                    focus_topics.append(topic)\n",
    "                if scores[m]==0 and not old_topic in focus_topics:\n",
    "                    focus_topics.append(old_topic)\n",
    "        random.seed(42)\n",
    "        best_score=0\n",
    "        problems=[]\n",
    "        for n in range(10**3):\n",
    "            test_score=0\n",
    "            test_problems=random.sample(possible_problems,number_to_do)\n",
    "            for m in range(number_to_do):\n",
    "                if line['p'+str(test_problems[m]+1)+'ot'].values[0] in focus_topics:\n",
    "                    test_score+=1\n",
    "            if test_score >= best_score:\n",
    "                best_score=test_score\n",
    "                problems=test_problems\n",
    "    return problems\n",
    "\n",
    "def list_hash_replace(percentages, topics, email, number_of_problems, number_to_do, homework_number):\n",
    "    problems=[]\n",
    "    value = hash(email)\n",
    "    problem_indices = list(range(number_of_problems))\n",
    "    while len(problems) < number_to_do and len(problem_indices) > 0:\n",
    "        problems.append(problem_indices.pop(value%len(problem_indices)))\n",
    "    topics_list = list(percentages.columns)\n",
    "    remove_list = ['name', 'user_name', 'password', 'school_name']\n",
    "    topics_list = [topic for topic in topics_list if topic not in remove_list]\n",
    "    problemic_topics=[[float('inf'), 0], [float('inf'), 0], [float('inf'), 0]]\n",
    "    for topic in topics_list:\n",
    "        if float(percentages.loc[email][topic]) < problemic_topics[-1][0]:\n",
    "             for n in range(number_of_problems):\n",
    "                    if topics.loc[homework_number]['p'+str(n+1)+'t'] == topic or topics.loc[homework_number]['p'+str(n+1)+'ot'] == topic:\n",
    "                        if not n+1 in problems:\n",
    "                            problemic_topics[-1] = [percentages.loc[email][topic],n]\n",
    "                            problemic_topics.sort()\n",
    "    for topic in problemic_topics:\n",
    "        if topic[-1] != 0:\n",
    "            random.shuffle(problems)\n",
    "            problems.pop()\n",
    "            problems.append(topic[-1])\n",
    "    problems.sort()\n",
    "    return problems\n",
    "\n",
    "def list_hash_additional(percentages, topics, email, number_of_problems, number_to_do, homework_number):\n",
    "    problems=[]\n",
    "    value = hash(email)\n",
    "    problem_indices = list(range(number_of_problems))\n",
    "    while len(problems) < number_to_do and len(problem_indices) > 0:\n",
    "        problems.append(problem_indices.pop(value%len(problem_indices)))\n",
    "    topics_list = list(percentages.columns)\n",
    "    remove_list = ['name', 'user_name', 'password', 'school_name']\n",
    "    topics_list = [topic for topic in topics_list if topic not in remove_list]\n",
    "    problemic_topics=[[float('inf'), 0], [float('inf'), 0], [float('inf'), 0]]\n",
    "    for topic in topics_list:\n",
    "        if float(percentages.loc[email][topic]) < problemic_topics[-1][0]:\n",
    "             for n in range(number_of_problems):\n",
    "                    if topics.loc[homework_number]['p'+str(n+1)+'t'] == topic or topics.loc[homework_number]['p'+str(n+1)+'ot'] == topic:\n",
    "                        if not n+1 in problems:\n",
    "                            problemic_topics[-1] = [percentages.loc[email][topic],n]\n",
    "                            problemic_topics.sort()\n",
    "    for topic in problemic_topics:\n",
    "        if topic[-1] != 0:\n",
    "            problems.append(topic[-1])\n",
    "    problems.sort()\n",
    "    return problems\n",
    "\n",
    "def list_hash_appropriate(email, number_of_problems, number_to_do, homework_number, cdf, cdf_score, problems_cdf):\n",
    "    if homework_number == 1:\n",
    "        return hash_list(email, number_of_problems, number_to_do)\n",
    "    elif homework_number == 51:\n",
    "        return list(range(20))\n",
    "    else:\n",
    "        return problems_cdf[cdf.index(cdf_score)][1]"
   ]
  },
  {
   "cell_type": "markdown",
   "metadata": {},
   "source": [
    "<h1>Helper Functions</h1>"
   ]
  },
  {
   "cell_type": "code",
   "execution_count": 34,
   "metadata": {},
   "outputs": [],
   "source": [
    "#standard logistic function\n",
    "def logistic(value):\n",
    "    return 1/(1+np.exp(-value))\n",
    "\n",
    "#problem_grader gives a binary score given a student and a problem\n",
    "def problem_grader(student, problem):\n",
    "    #get info from problem\n",
    "    difficulty=problem.difficulty\n",
    "    topic=problem.topic\n",
    "    old_topic=problem.old_topic\n",
    "    #make sure topic and old topic are in the students topics\n",
    "    if not topic in student.topics.keys():\n",
    "        student.topics[topic]=-1+2*np.random.random()\n",
    "    if not old_topic in student.topics.keys():\n",
    "        student.topics[old_topic]=-1+2*np.random.random()\n",
    "    #convert from class parameters to actual parameters using the logistic equation\n",
    "    motivation_parameter = logistic(student.motivation)\n",
    "    intelligence_parameter = logistic(student.intelligence)\n",
    "    consistency_parameter = logistic(student.consistency)\n",
    "    ability_parameter = logistic(student.ability)\n",
    "    old_topic_parameter= logistic(student.topics[old_topic])\n",
    "    topic_parameter = logistic(student.topics[topic])\n",
    "    return (motivation_parameter*intelligence_parameter*topic_parameter*old_topic_parameter*\\\n",
    "            ability_parameter+(np.random.random()-0.5)/100/consistency_parameter) > (difficulty)**5\n",
    "\n",
    "#probability_writer finds the probability of getting a problem right and records the result\n",
    "def probability_writer():\n",
    "    print('writing probability')\n",
    "    line1='name'\n",
    "    line2='name'\n",
    "    for n in range(1,35):\n",
    "        line1+=',p'+str(n)\n",
    "        line2+=',p'+str(n)+'a,p'+str(n)+'c'\n",
    "    line1+='\\r\\n'\n",
    "    line2+='\\r\\n'\n",
    "    file_lines1=[line1]\n",
    "    file_lines2=[line2]\n",
    "    for homework_number in range(1,51):\n",
    "        line1='HW'+str(homework_number)\n",
    "        line2='HW'+str(homework_number)\n",
    "        data_frame=pd.read_csv(directory+'/hwdata/HW'+str(homework_number)+'.csv')\n",
    "        for problem_number in range(1,len(data_frame.keys())):\n",
    "            right=len(data_frame[data_frame['p'+str(problem_number)]==1])\n",
    "            total=len(data_frame[data_frame['p'+str(problem_number)] != 2])\n",
    "            line1+=','+str(right/total)\n",
    "            line2+=','+str(total)+','+str(right)\n",
    "        line1+='\\r\\n'\n",
    "        line2+='\\r\\n'\n",
    "        file_lines1.append(line1)\n",
    "        file_lines2.append(line2)\n",
    "    file=open(directory+'/hwdata/HW_Probabilities.csv','w+')\n",
    "    for line in file_lines1:\n",
    "        file.write(line)\n",
    "    file.close()\n",
    "    file=open(directory+'/hwdata/HW_Problem_History.csv','w+')\n",
    "    for line in file_lines2:\n",
    "        file.write(line)\n",
    "    file.close()\n",
    "    \n",
    "#data_loader reads data from file and returns the results as a list\n",
    "def data_loader():\n",
    "    schools = {}\n",
    "    students = {}\n",
    "    student_profiles={}\n",
    "    homeworks = {}\n",
    "    data_frame=pd.read_csv(directory+'/hwdata/schools.csv')\n",
    "    for n in range(data_frame.shape[0]):\n",
    "        school_name=data_frame.iloc[n]['school_name']\n",
    "        schools[school_name]=School(school_name)\n",
    "        schools[school_name].school_quality=data_frame.iloc[n]['school_quality']\n",
    "    data_frame=pd.read_csv(directory+'/hwdata/students.csv')\n",
    "    for n in range(data_frame.shape[0]):\n",
    "        email=data_frame.iloc[n]['email']\n",
    "        students[email]=Student(0,email)\n",
    "        students[email].ability=data_frame.iloc[n]['ability']\n",
    "        students[email].intelligence=data_frame.iloc[n]['intelligence']\n",
    "        students[email].motivation=data_frame.iloc[n]['motivation']\n",
    "        students[email].consistency=data_frame.iloc[n]['consistency']\n",
    "    data_frame=pd.read_csv(directory+'/hwdata/students_profile.csv')\n",
    "    for n in range(data_frame.shape[0]):\n",
    "        school_name=data_frame.iloc[n]['school_name']\n",
    "        email=data_frame.iloc[n]['email']\n",
    "        schools[school_name].students[email]=students[email]\n",
    "    for n in range(data_frame.shape[0]):\n",
    "        email=data_frame.iloc[n]['email']\n",
    "        real_name=data_frame.iloc[n]['name']\n",
    "        user_name=data_frame.iloc[n]['user_name']\n",
    "        password=data_frame.iloc[n]['password']\n",
    "        school_name=data_frame.iloc[n]['school_name']\n",
    "        student_profiles[email]=Student_Profile(real_name,user_name,password,email,school_name)\n",
    "    data_frame=pd.read_csv(directory+'/hwdata/HWS.csv')\n",
    "    for n in range(51):\n",
    "        homeworks[str(n+1)]=Homework(n+1)\n",
    "        number_of_problems=data_frame.iloc[n]['number_of_problems']\n",
    "        for m in range(number_of_problems):\n",
    "            topic=str(data_frame.iloc[n]['p'+str(m+1)+'t'])\n",
    "            old_topic=data_frame.iloc[n]['p'+str(m+1)+'t']\n",
    "            discipline=data_frame.iloc[n]['p'+str(m+1)+'ds']\n",
    "            difficulty=data_frame.iloc[n]['p'+str(m+1)+'d']\n",
    "            homeworks[str(n+1)].topics.add(topic)\n",
    "            problem=Problem(topic,old_topic,discipline,difficulty)\n",
    "            homeworks[str(n+1)].problem_set.append(problem)\n",
    "    return [schools,students,student_profiles,homeworks]   \n",
    "\n",
    "def get_grades(extension=''):\n",
    "    grades=[]\n",
    "    data=data_loader()\n",
    "    students=data[1]\n",
    "    homeworks=data[0]\n",
    "    for n in range(len(homeworks.keys())):\n",
    "        for email in students.keys():\n",
    "            grades.append(get_grade(students[email],n+1,extension))\n",
    "    return grades\n",
    "\n",
    "#get_grade gets a grade for a homework completed by a student\n",
    "def get_grade(student, homework_number, extension):\n",
    "    #get_grade reads the grade from a csv file and returns a score out of 10\n",
    "    email=student.email\n",
    "    homework_data_frame=pd.read_csv(directory+'/hwdata/HW'+str(homework_number)+extension+'.csv')\n",
    "    student_data_frame=homework_data_frame[homework_data_frame['email']==email]\n",
    "    points=0\n",
    "    total=0\n",
    "    for key in student_data_frame.keys():\n",
    "        if student_data_frame.iloc[0][key] == 1:\n",
    "            points+=1\n",
    "            total+=1\n",
    "        if student_data_frame.iloc[0][key] == 0:\n",
    "            total+=1\n",
    "    return points/total*10\n",
    "    \n",
    "def get_grades_total():\n",
    "    grades=[]\n",
    "    data=data_loader_focus()\n",
    "    students=data[1]\n",
    "    homeworks=data[0]\n",
    "    for n in range(len(homeworks.keys())):\n",
    "        for email in students.keys():\n",
    "            grades.append(get_grade(students[email],n+1,'_focus'))\n",
    "            grades.append(get_grade(students[email],n+1))\n",
    "    return grades\n",
    "\n",
    "def get_grades(extension=''):\n",
    "    grades=[]\n",
    "    data=data_loader()\n",
    "    students=data[1]\n",
    "    homeworks=data[0]\n",
    "    for n in range(len(homeworks.keys())):\n",
    "        for email in students.keys():\n",
    "            grades.append(get_grade(students[email],n+1,extension))\n",
    "    return grades\n",
    "\n",
    "def get_grade(student,homework_number,extension):\n",
    "    #get_grade reads the grade from a csv file and returns a score out of 10\n",
    "    email=student.email\n",
    "    homework_data_frame=pd.read_csv(directory+'/hwdata/HW'+str(homework_number)+extension+'.csv')\n",
    "    student_data_frame=homework_data_frame[homework_data_frame['email']==email]\n",
    "    points=0\n",
    "    total=0\n",
    "    for key in student_data_frame.keys():\n",
    "        if student_data_frame.iloc[0][key] == 1:\n",
    "            points+=1\n",
    "            total+=1\n",
    "        if student_data_frame.iloc[0][key] == 0:\n",
    "            total+=1\n",
    "    return points/total*10\n",
    "\n",
    "def data_frame_maker(simulation_type=''):\n",
    "    df_scores = pd.read_csv(directory + '/hwdata/students_profile.csv', index_col='email')\n",
    "    emails = df_scores.index\n",
    "    for homework_number in tqdm(range(1,52)):\n",
    "        df_scores['score_'+str(homework_number)] = 0.0\n",
    "        df_homework = pd.read_csv(directory + '/hwdata/HW'+str(homework_number)+\\\n",
    "                                   simulation_type+'.csv', index_col='email')\n",
    "        columns = df_homework.columns\n",
    "        for email in emails:\n",
    "            points = 0\n",
    "            problems = 0\n",
    "            for column in columns:\n",
    "                score = df_homework.loc[email][column]\n",
    "                if score == 1 or score == 0:\n",
    "                    problems += 1\n",
    "                if score == 1:\n",
    "                    points += 1\n",
    "            df_scores.at[email, 'score_'+str(homework_number)] = 10*points/problems\n",
    "    df_scores = df_scores.reset_index()\n",
    "    return df_scores\n",
    "\n",
    "def data_frame_maker_topics():\n",
    "    df = pd.read_csv(directory + '/hwdata/students_profile.csv', index_col='email')\n",
    "    df_hws = pd.read_csv(directory + '/hwdata/HWS.csv', index_col='homework_number')\n",
    "    columns = list(df_hws.columns)\n",
    "    for n in range(1,35):\n",
    "        columns.remove('p'+str(n)+'t')\n",
    "        columns.remove('p'+str(n)+'ot')\n",
    "    df_hws = df_hws.drop(columns=columns)\n",
    "    return df_hws\n",
    "\n",
    "def data_frame_maker_percentages(number_of_homeworks, simulation_type=''):\n",
    "    df = pd.read_csv(directory + '/hwdata/students_profile.csv', index_col='email')\n",
    "    df_topics = data_frame_maker_topics()\n",
    "    df_topics = df_topics.replace({'pre1':'0.1', 'pre2':'0.2', 'pre3':'0.3', 'pre4':'0.4', 'pre5':'0.5'}, regex=True)\n",
    "    topics = []\n",
    "    for homework_number in range(1,number_of_homeworks+1):\n",
    "        for column in df_topics.columns:\n",
    "            topic = df_topics.loc[homework_number][column]\n",
    "            if not str(topic) in topics and str(topic) != 'nan':\n",
    "                topics.append(str(topic))\n",
    "    topics.sort()\n",
    "    scores = {}\n",
    "    emails = df.index\n",
    "    for homework_number in range(1,number_of_homeworks+1):\n",
    "        df_scores = pd.read_csv(directory+'/hwdata/HW'+str(homework_number)+simulation_type+'.csv', index_col='email')\n",
    "        columns = df_scores.columns\n",
    "        for column in columns:\n",
    "            topic = df_topics.loc[homework_number][column+'t']\n",
    "            old_topic = df_topics.loc[homework_number][column+'ot']\n",
    "            for email in emails:\n",
    "                score = df_scores.loc[email][column]\n",
    "                if scores.get(email+'_'+str(topic)+'_attempts', -1) == -1:\n",
    "                    scores[email+'_'+str(topic)+'_attempts'] = 0\n",
    "                    scores[email+'_'+str(topic)+'_points'] = 0\n",
    "                if scores.get(email+'_'+str(old_topic)+'_attempts', -1) == -1:\n",
    "                    scores[email+'_'+str(old_topic)+'_attempts'] = 0\n",
    "                    scores[email+'_'+str(old_topic)+'_points'] = 0\n",
    "                if score == 1 or score == 0:\n",
    "                    scores[email+'_'+str(topic)+'_attempts'] += 1\n",
    "                    scores[email+'_'+str(old_topic)+'_attempts'] += 1\n",
    "                if score == 1:\n",
    "                    scores[email+'_'+str(topic)+'_points'] += 1\n",
    "                    scores[email+'_'+str(old_topic)+'_points'] += 1\n",
    "    percentages = df\n",
    "    for topic in topics:\n",
    "        percentages[topic] = 0.0\n",
    "        for email in emails:\n",
    "            if scores[email+'_'+topic+'_attempts'] != 0:\n",
    "                percentages.at[email, topic] = scores[email+'_'+topic+'_points']/scores[email+'_'+topic+'_attempts']\n",
    "    return percentages\n",
    "\n",
    "homeworks = {}\n",
    "\n",
    "def data_frame_homework_percentages(number_of_homeworks, simulation_type=''):\n",
    "    df = pd.read_csv(directory + '/hwdata/students_profile.csv', index_col='email')\n",
    "    df_grades = pd.DataFrame(df.index)\n",
    "    df_grades = df_grades.set_index('email')\n",
    "    emails = df.index\n",
    "    df_grades['Average'] = 0.0\n",
    "    global homeworks\n",
    "    for homework_number in range(1,number_of_homeworks+1):\n",
    "        df_homework = homeworks.get(str(homework_number)+simulation_type, pd.DataFrame()) \n",
    "        if df_homework.size == 0:\n",
    "            homeworks[str(homework_number)+simulation_type] = pd.read_csv(directory+'/hwdata/HW'+str(homework_number)+simulation_type+'.csv', index_col='email')\n",
    "            df_homework = homeworks[str(homework_number)+simulation_type]\n",
    "        columns = df_homework.columns\n",
    "        for email in emails:\n",
    "            points = 0\n",
    "            problems = 0\n",
    "            for column in columns:\n",
    "                score = df_homework.loc[email][column]\n",
    "                if score == 0 or score == 1:\n",
    "                    problems += 1\n",
    "                if score == 1:\n",
    "                    points += 1\n",
    "            df_grades.at[email,'Average'] = df_grades.loc[email]['Average']+10*points/problems\n",
    "    for email in emails:\n",
    "        df_grades.at[email, 'Average'] = df_grades.loc[email]['Average']/number_of_homeworks\n",
    "    return df_grades\n",
    "\n",
    "def data_frame_skills_by_homework():\n",
    "    data = []\n",
    "    data_focus = []\n",
    "    data_additional = []\n",
    "    data_replace = []\n",
    "    data_appropriate = []\n",
    "    for homework_number in tqdm(range(6,51)):\n",
    "        temp_data = data_frame_homework_percentages(homework_number)\n",
    "        data.append(temp_data.stack().mean())\n",
    "        temp_data = data_frame_homework_percentages(homework_number, '_focus')\n",
    "        data_focus.append(temp_data.stack().mean())\n",
    "        temp_data = data_frame_homework_percentages(homework_number, '_additional')\n",
    "        data_additional.append(temp_data.stack().mean())\n",
    "        temp_data = data_frame_homework_percentages(homework_number, '_replace')\n",
    "        data_replace.append(temp_data.stack().mean())\n",
    "        temp_data = data_frame_homework_percentages(homework_number, '_appropriate')\n",
    "        data_appropriate.append(temp_data.stack().mean())\n",
    "    return [list(range(6,51)), data, data_focus, data_additional, data_replace, data_appropriate]\n",
    "\n",
    "def data_frame_homework_score(homework_number, simulation_type=''):\n",
    "    df = pd.read_csv(directory + '/hwdata/students_profile.csv', index_col='email')\n",
    "    df_grades = pd.DataFrame(df.index)\n",
    "    df_grades = df_grades.set_index('email')\n",
    "    emails = df.index\n",
    "    df_grades['Score'] = 0.0\n",
    "    df_homework = pd.read_csv(directory+'/hwdata/HW'+str(homework_number)+simulation_type+'.csv', index_col='email')\n",
    "    columns = df_homework.columns\n",
    "    for email in emails:\n",
    "        points = 0\n",
    "        problems = 0\n",
    "        for column in columns:\n",
    "            score = df_homework.loc[email][column]\n",
    "            if score == 0 or score ==1:\n",
    "                problems += 1\n",
    "            if score == 1:\n",
    "                points += 1\n",
    "        df_grades.at[email,'Score'] = 10*points/problems\n",
    "    return df_grades\n",
    "\n",
    "def data_frame_grade_by_homework():\n",
    "    data = []\n",
    "    data_focus = []\n",
    "    data_additional = []\n",
    "    data_replace = []\n",
    "    data_appropriate = []\n",
    "    for homework_number in tqdm(range(1,51)):\n",
    "        temp_data = data_frame_homework_score(homework_number)\n",
    "        data.append(temp_data.Score.mean())\n",
    "        temp_data = data_frame_homework_score(homework_number, '_focus')\n",
    "        data_focus.append(temp_data.Score.mean())\n",
    "        temp_data = data_frame_homework_score(homework_number, '_additional')\n",
    "        data_additional.append(temp_data.Score.mean())\n",
    "        temp_data = data_frame_homework_score(homework_number, '_replace')\n",
    "        data_replace.append(temp_data.Score.mean())\n",
    "        temp_data = data_frame_homework_score(homework_number, '_appropriate')\n",
    "        data_appropriate.append(temp_data.Score.mean())\n",
    "    return [list(range(1,51)), data, data_focus, data_additional, data_replace, data_appropriate]\n"
   ]
  },
  {
   "cell_type": "markdown",
   "metadata": {},
   "source": [
    "<h1>Simulations</h1>"
   ]
  },
  {
   "cell_type": "code",
   "execution_count": 7,
   "metadata": {},
   "outputs": [],
   "source": [
    "#data_maker simulates a year of grades and records the results\n",
    "def data_maker():\n",
    "    print('making data')\n",
    "    schools = {}\n",
    "    students = {}\n",
    "    homework = {}\n",
    "    #populate schools dictionary and write csv\n",
    "    school_names = ['Chandler', 'Ahwatukee', 'Scottsdale', 'Phoenix', 'Dallas', 'Washington D.C.', \\\n",
    "        'Beijing', 'Shanghai', 'Bangkok', 'Mesa']\n",
    "    file=open(directory+'/hwdata/schools.csv','w+')\n",
    "    file.write('school_name,school_quality\\r\\n')\n",
    "    for name in school_names:\n",
    "        schools[name]=School(name)\n",
    "        file.write(name+', '+str(schools[name].school_quality)+'\\r\\n')\n",
    "    file.close()\n",
    "    #populate students and school.students, write student.csv\n",
    "    file=open(directory+'/hwdata/students.csv','w+')\n",
    "    file.write('email,ability,intelligence,motivation,consistency\\r\\n')\n",
    "    for name in schools.keys():\n",
    "        number_of_students = 80 + np.random.randint(0,40)\n",
    "        school_quality = schools[name].school_quality\n",
    "        for n in range(number_of_students):\n",
    "            email = email_creator()\n",
    "            while email in students.keys():\n",
    "                email = email_creator()\n",
    "            real_name = real_name_creator()\n",
    "            user_name = user_name_creator()\n",
    "            password = password_creator()\n",
    "            schools[name].students[email]=Student_Profile(real_name, user_name, password, email, \\\n",
    "                name)\n",
    "            students[email]=Student(school_quality, email)\n",
    "            file.write(email+','+str(students[email].ability)+','+str(students[email].intelligence)\\\n",
    "                +','+str(students[email].motivation)+','+str(students[email].consistency)+'\\r\\n')\n",
    "    file.close()\n",
    "    #write student info\n",
    "    file=open(directory+'/hwdata/students_profile.csv','w+')\n",
    "    file.write('name,user_name,password,email,school_name\\r\\n')\n",
    "    for name in schools.keys():\n",
    "        for email in schools[name].students.keys():\n",
    "            real_name=schools[name].students[email].real_name\n",
    "            user_name=schools[name].students[email].user_name\n",
    "            password=schools[name].students[email].password\n",
    "            file.write(real_name+','+user_name+','+password+','+email+','+name+'\\r\\n')\n",
    "    file.close()\n",
    "    #populate homework problems\n",
    "    difficulties= [ [] for n in range(51) ]\n",
    "    topics=set(['pre1','pre2','pre3','pre4','pre5'])\n",
    "    for n in range(51):\n",
    "        homework[n+1] = Homework(n+1)\n",
    "        if n != 50:\n",
    "            number_to_do = 7 + np.random.randint(0,10)\n",
    "            number_of_problems = 2*number_to_do\n",
    "        else:\n",
    "            number_to_do = 20\n",
    "            number_of_problems = 20\n",
    "        chapter = int(n/5) + 1\n",
    "        for m in range(number_of_problems):\n",
    "            if n != 50:\n",
    "                topic = str(chapter) + '.' + str(6*n%10 + int(m/6))\n",
    "                old_topic=random.sample(topics,1)[0]\n",
    "            else:\n",
    "                temp_topics = random.sample(topics,2)\n",
    "                topic = temp_topics[0]\n",
    "                old_topic = temp_topics[1]\n",
    "            homework[n+1].topics.add(topic)\n",
    "            difficulty = np.random.normal(0.5,0.10)\n",
    "            difficulties[n].append(topic)\n",
    "            difficulties[n].append(old_topic)\n",
    "            difficulties[n].append('none')\n",
    "            difficulties[n].append(str(difficulty))\n",
    "            homework[n+1].problem_set.append(Problem(topic, old_topic, 'none', difficulty))\n",
    "        for topic in homework[n+1].topics:\n",
    "            topics.add(topic)\n",
    "    #simulate homework problems\n",
    "    line='homework_number,number_of_problems_to_do,number_of_problems'\n",
    "    for n in range(1,35):\n",
    "        line+=',p'+str(n)+'t,p'+str(n)+'ot,p'+str(n)+'ds,p'+str(n)+'d'\n",
    "    line+='\\r\\n'\n",
    "    homework_info_lines=[line]\n",
    "    for homework_number in tqdm(range(1,52)):\n",
    "        file_lines = []\n",
    "        grade_lines = []\n",
    "        if homework_number != 51:\n",
    "            number_of_problems = len(homework[homework_number].problem_set)\n",
    "            problems_to_do = int(number_of_problems/2)\n",
    "        else:\n",
    "            number_of_problems = 20\n",
    "            number_to_do = 20\n",
    "        line=str(homework_number) + ',' + str(problems_to_do) + ',' \\\n",
    "            + str(number_of_problems)\n",
    "        for problem_number in range(number_of_problems):\n",
    "            topic=homework[homework_number].problem_set[problem_number].topic\n",
    "            old_topic=homework[homework_number].problem_set[problem_number].old_topic\n",
    "            discipline=homework[homework_number].problem_set[problem_number].discipline\n",
    "            difficulty=homework[homework_number].problem_set[problem_number].difficulty\n",
    "            line+=','+topic+','+old_topic+','+discipline+','+str(difficulty)\n",
    "        line+='\\r\\n'\n",
    "        homework_info_lines.append(line)\n",
    "        file_columns='email'\n",
    "        for n in range(number_of_problems):\n",
    "            file_columns+=(',p'+str(n+1))\n",
    "        file_columns+='\\r\\n'\n",
    "        file_lines.append(file_columns)\n",
    "        for school_name in schools.keys():\n",
    "            for email in schools[school_name].students.keys():\n",
    "                problems_for_student = list_hash(email,number_of_problems,problems_to_do)\n",
    "                scores = ['2' for n in range(number_of_problems)]\n",
    "                for index in problems_for_student:\n",
    "                    topic=homework[homework_number].problem_set[index].topic\n",
    "                    old_topic=homework[homework_number].problem_set[index].old_topic\n",
    "                    difficulty=homework[homework_number].problem_set[index].difficulty\n",
    "                    score=problem_grader(students[email],\\\n",
    "                        homework[homework_number].problem_set[index])\n",
    "                    students[email].problem_update(score,topic,old_topic,difficulty)\n",
    "                    #second attempt\n",
    "                    if score == False:\n",
    "                        score=problem_grader(students[email],homework[homework_number].problem_set[index])\n",
    "                        students[email].problem_update(score,topic,old_topic,difficulty)\n",
    "                    scores[index]=str(int(score))\n",
    "                grade_lines.append(email+','+','.join(scores)+'\\r\\n')\n",
    "                #improving ability based on results\n",
    "                for index in problems_for_student:\n",
    "                    students[email].problem_update(scores[index],topic,old_topic,\\\n",
    "                        homework[homework_number].problem_set[index].difficulty)\n",
    "        while len(grade_lines)>1:\n",
    "            file_lines.append(grade_lines.pop(np.random.randint(0,len(grade_lines)-1)))\n",
    "        file_lines.append(grade_lines.pop())\n",
    "        file = open(directory+'/hwdata/HW' + str(homework_number) + '.csv','w+')\n",
    "        for line in file_lines:\n",
    "            file.write(line)\n",
    "        file.close()\n",
    "    file=open(directory+'/hwdata/HWS.csv','w+')\n",
    "    for line in homework_info_lines:\n",
    "        file.write(line)\n",
    "    file.close()\n",
    "    probability_writer()\n",
    "    student_file_lines=[]\n",
    "    student_file = open(directory+'/hwdata/final_students.csv','w+')\n",
    "    student_file.write('email, ability, intelligence, motivation, consistency, topics')\n",
    "    for email, student in students.items():\n",
    "        student_file.write(email + ', ' + str(student.ability) + ', ' + str(student.intelligence) + ', ' +\\\n",
    "                           str(student.motivation) + ', ' + str(student.consistency) + ', ' +\\\n",
    "                           str(student.topics) + '\\r\\n')\n",
    "    student_file.close()\n",
    "\n",
    "def data_maker_focus():\n",
    "    print('making data')\n",
    "    data_loaded=data_loader()\n",
    "    schools=data_loaded[0]\n",
    "    students=data_loaded[1]\n",
    "    student_profiles=data_loaded[2]\n",
    "    homework=data_loaded[3]\n",
    "    homework_data=pd.read_csv(directory+'/hwdata/HWS.csv')\n",
    "    #simulate homework problems\n",
    "    for homework_number in tqdm(range(1,52)):\n",
    "        file_lines = []\n",
    "        grade_lines = []\n",
    "        if homework_number != 51:\n",
    "            number_of_problems = len(homework[str(homework_number)].problem_set)\n",
    "            problems_to_do = int(number_of_problems/2)\n",
    "        else:\n",
    "            number_of_problems = 20\n",
    "            number_to_do = 20\n",
    "        file_columns='email'\n",
    "        for n in range(number_of_problems):\n",
    "            file_columns+=(',p'+str(n+1))\n",
    "        file_columns+='\\r\\n'\n",
    "        file_lines.append(file_columns)\n",
    "        if homework_number>4:\n",
    "            data_frames=[pd.read_csv(directory+'/hwdata/HW'+str(homework_number-3)+'_focus.csv'),\\\n",
    "                        pd.read_csv(directory+'/hwdata/HW'+str(homework_number-2)+'_focus.csv'),\\\n",
    "                        pd.read_csv(directory+'/hwdata/HW'+str(homework_number-1)+'_focus.csv')]\n",
    "        else:\n",
    "            data_frames=[]\n",
    "        for school_name in schools.keys():\n",
    "            for email in schools[school_name].students.keys():\n",
    "                problems_for_student = list_hash_focus(data_frames, email, number_of_problems, problems_to_do,\\\n",
    "                                                       homework_number, homework_data)\n",
    "                scores = ['2' for n in range(number_of_problems)]\n",
    "                for index in problems_for_student:\n",
    "                    topic=homework[str(homework_number)].problem_set[index].topic\n",
    "                    old_topic=homework[str(homework_number)].problem_set[index].old_topic\n",
    "                    difficulty=homework[str(homework_number)].problem_set[index].difficulty\n",
    "                    score=problem_grader(students[email],\\\n",
    "                        homework[str(homework_number)].problem_set[index])\n",
    "                    students[email].problem_update(score,topic,old_topic,difficulty)\n",
    "                    #second attempt\n",
    "                    if score == False:\n",
    "                        score=problem_grader(students[email],homework[str(homework_number)].problem_set[index])\n",
    "                        students[email].problem_update(score,topic,old_topic,difficulty)\n",
    "                    scores[index]=str(int(score))\n",
    "                grade_lines.append(email+','+','.join(scores)+'\\r\\n')\n",
    "                #improving ability based on results\n",
    "                for index in problems_for_student:\n",
    "                    students[email].problem_update(scores[index],topic,old_topic,\\\n",
    "                        homework[str(homework_number)].problem_set[index].difficulty)\n",
    "        while len(grade_lines)>1:\n",
    "            file_lines.append(grade_lines.pop(np.random.randint(0,len(grade_lines)-1)))\n",
    "        file_lines.append(grade_lines.pop())\n",
    "        file = open(directory+'/hwdata/HW' + str(homework_number) + '_focus.csv','w+')\n",
    "        for line in file_lines:\n",
    "            file.write(line)\n",
    "        file.close()\n",
    "    student_file_lines=[]\n",
    "    student_file = open(directory+'/hwdata/final_students_focus.csv','w+')\n",
    "    student_file.write('email, ability, intelligence, motivation, consistency, topics')\n",
    "    for email, student in students.items():\n",
    "        student_file.write(email + ', ' + str(student.ability) + ', ' + str(student.intelligence) + ', ' +\\\n",
    "                           str(student.motivation) + ', ' + str(student.consistency) + ', ' +\\\n",
    "                           str(student.topics) + '\\r\\n')\n",
    "    student_file.close()        \n",
    "\n",
    "def data_maker_additional():\n",
    "    print('making data')\n",
    "    data_loaded=data_loader()\n",
    "    topics = data_frame_maker_topics()\n",
    "    schools=data_loaded[0]\n",
    "    students=data_loaded[1]\n",
    "    student_profiles=data_loaded[2]\n",
    "    homework=data_loaded[3]\n",
    "    homework_data=pd.read_csv(directory+'/hwdata/HWS.csv')\n",
    "    #simulate homework problems\n",
    "    for homework_number in tqdm(range(1,52)):\n",
    "        percentages = data_frame_maker_percentages(homework_number-1, simulation_type='_additional')\n",
    "        file_lines = []\n",
    "        grade_lines = []\n",
    "        if homework_number != 51:\n",
    "            number_of_problems = len(homework[str(homework_number)].problem_set)\n",
    "            problems_to_do = int(number_of_problems/2)\n",
    "        else:\n",
    "            number_of_problems = 20\n",
    "            number_to_do = 20\n",
    "        file_columns='email'\n",
    "        for n in range(number_of_problems):\n",
    "            file_columns+=(',p'+str(n+1))\n",
    "        file_columns+='\\r\\n'\n",
    "        file_lines.append(file_columns)\n",
    "        for school_name in schools.keys():\n",
    "            for email in schools[school_name].students.keys():\n",
    "                problems_for_student = list_hash_additional(percentages, topics, email, number_of_problems, problems_to_do, homework_number)\n",
    "                scores = ['2' for n in range(number_of_problems)]\n",
    "                for index in problems_for_student:\n",
    "                    topic=homework[str(homework_number)].problem_set[index].topic\n",
    "                    old_topic=homework[str(homework_number)].problem_set[index].old_topic\n",
    "                    difficulty=homework[str(homework_number)].problem_set[index].difficulty\n",
    "                    score=problem_grader(students[email],\\\n",
    "                        homework[str(homework_number)].problem_set[index])\n",
    "                    students[email].problem_update(score,topic,old_topic,difficulty)\n",
    "                    #second attempt\n",
    "                    if score == False:\n",
    "                        score=problem_grader(students[email],homework[str(homework_number)].problem_set[index])\n",
    "                        students[email].problem_update(score,topic,old_topic,difficulty)\n",
    "                    scores[index]=str(int(score))\n",
    "                grade_lines.append(email+','+','.join(scores)+'\\r\\n')\n",
    "                #improving ability based on results\n",
    "                for index in problems_for_student:\n",
    "                    students[email].problem_update(scores[index],topic,old_topic,\\\n",
    "                        homework[str(homework_number)].problem_set[index].difficulty)\n",
    "        while len(grade_lines)>1:\n",
    "            file_lines.append(grade_lines.pop(np.random.randint(0,len(grade_lines)-1)))\n",
    "        file_lines.append(grade_lines.pop())\n",
    "        file = open(directory+'/hwdata/HW' + str(homework_number) + '_additional.csv','w+')\n",
    "        for line in file_lines:\n",
    "            file.write(line)\n",
    "        file.close()\n",
    "    student_file_lines=[]\n",
    "    student_file = open(directory+'/hwdata/final_students_additional.csv','w+')\n",
    "    student_file.write('email, ability, intelligence, motivation, consistency, topics')\n",
    "    for email, student in students.items():\n",
    "        student_file.write(email + ', ' + str(student.ability) + ', ' + str(student.intelligence) + ', ' +\\\n",
    "                           str(student.motivation) + ', ' + str(student.consistency) + ', ' +\\\n",
    "                           str(student.topics) + '\\r\\n')\n",
    "    student_file.close()\n",
    "\n",
    "def data_maker_replace():\n",
    "    print('making data')\n",
    "    data_loaded=data_loader()\n",
    "    topics = data_frame_maker_topics()\n",
    "    schools=data_loaded[0]\n",
    "    students=data_loaded[1]\n",
    "    student_profiles=data_loaded[2]\n",
    "    homework=data_loaded[3]\n",
    "    homework_data=pd.read_csv(directory+'/hwdata/HWS.csv')\n",
    "    #simulate homework problems\n",
    "    for homework_number in tqdm(range(1,52)):\n",
    "        percentages = data_frame_maker_percentages(homework_number-1, simulation_type='_replace')\n",
    "        file_lines = []\n",
    "        grade_lines = []\n",
    "        if homework_number != 51:\n",
    "            number_of_problems = len(homework[str(homework_number)].problem_set)\n",
    "            problems_to_do = int(number_of_problems/2)\n",
    "        else:\n",
    "            number_of_problems = 20\n",
    "            number_to_do = 20\n",
    "        file_columns='email'\n",
    "        for n in range(number_of_problems):\n",
    "            file_columns+=(',p'+str(n+1))\n",
    "        file_columns+='\\r\\n'\n",
    "        file_lines.append(file_columns)\n",
    "        for school_name in schools.keys():\n",
    "            for email in schools[school_name].students.keys():\n",
    "                problems_for_student = list_hash_replace(percentages, topics, email, number_of_problems, problems_to_do, homework_number)\n",
    "                scores = ['2' for n in range(number_of_problems)]\n",
    "                for index in problems_for_student:\n",
    "                    topic=homework[str(homework_number)].problem_set[index].topic\n",
    "                    old_topic=homework[str(homework_number)].problem_set[index].old_topic\n",
    "                    difficulty=homework[str(homework_number)].problem_set[index].difficulty\n",
    "                    score=problem_grader(students[email],\\\n",
    "                        homework[str(homework_number)].problem_set[index])\n",
    "                    students[email].problem_update(score,topic,old_topic,difficulty)\n",
    "                    #second attempt\n",
    "                    if score == False:\n",
    "                        score=problem_grader(students[email],homework[str(homework_number)].problem_set[index])\n",
    "                        students[email].problem_update(score,topic,old_topic,difficulty)\n",
    "                    scores[index]=str(int(score))\n",
    "                grade_lines.append(email+','+','.join(scores)+'\\r\\n')\n",
    "                #improving ability based on results\n",
    "                for index in problems_for_student:\n",
    "                    students[email].problem_update(scores[index],topic,old_topic,\\\n",
    "                        homework[str(homework_number)].problem_set[index].difficulty)\n",
    "        while len(grade_lines)>1:\n",
    "            file_lines.append(grade_lines.pop(np.random.randint(0,len(grade_lines)-1)))\n",
    "        file_lines.append(grade_lines.pop())\n",
    "        file = open(directory+'/hwdata/HW' + str(homework_number) + '_replace.csv','w+')\n",
    "        for line in file_lines:\n",
    "            file.write(line)\n",
    "        file.close()\n",
    "    student_file_lines=[]\n",
    "    student_file = open(directory+'/hwdata/final_students_replace.csv','w+')\n",
    "    student_file.write('email, ability, intelligence, motivation, consistency, topics')\n",
    "    for email, student in students.items():\n",
    "        student_file.write(email + ', ' + str(student.ability) + ', ' + str(student.intelligence) + ', ' +\\\n",
    "                           str(student.motivation) + ', ' + str(student.consistency) + ', ' +\\\n",
    "                           str(student.topics) + '\\r\\n')\n",
    "    student_file.close()\n",
    "\n",
    "def data_maker_appropriate():\n",
    "    print('making data')\n",
    "    data_loaded=data_loader()\n",
    "    topics = data_frame_maker_topics()\n",
    "    schools=data_loaded[0]\n",
    "    students=data_loaded[1]\n",
    "    student_profiles=data_loaded[2]\n",
    "    homework=data_loaded[3]\n",
    "    homework_data=pd.read_csv(directory+'/hwdata/HWS.csv')\n",
    "    #simulate homework problems\n",
    "    for homework_number in tqdm(range(1,52)):\n",
    "        file_lines = []\n",
    "        grade_lines = []\n",
    "        if homework_number != 51:\n",
    "            number_of_problems = len(homework[str(homework_number)].problem_set)\n",
    "            problems_to_do = int(number_of_problems/2)\n",
    "        else:\n",
    "            number_of_problems = 20\n",
    "            number_to_do = 20\n",
    "        file_columns='email'\n",
    "        for n in range(number_of_problems):\n",
    "            file_columns+=(',p'+str(n+1))\n",
    "        file_columns+='\\r\\n'\n",
    "        file_lines.append(file_columns)\n",
    "        cdf = []\n",
    "        problems_cdf = []\n",
    "        if homework_number > 1 and homework_number < 51:\n",
    "            data_frame = data_frame_homework_percentages(homework_number-1, '_appropriate')\n",
    "            for email in data_frame.index:\n",
    "                cdf.append(data_frame.loc[email]['Average'])\n",
    "                homework_set = list_hash(email, number_of_problems, problems_to_do)\n",
    "                set_difficulty = 0\n",
    "                for index in homework_set:\n",
    "                    set_difficulty += homework[str(homework_number)].problem_set[index].difficulty\n",
    "                problems_cdf.append([set_difficulty, homework_set])\n",
    "            cdf.sort()\n",
    "            problems_cdf.sort()\n",
    "        for school_name in schools.keys():\n",
    "            for email in schools[school_name].students.keys():\n",
    "                if homework_number != 1:\n",
    "                    cdf_score = cdf.index(data_frame.loc[email]['Average'])\n",
    "                else:\n",
    "                    cdf_score = 0\n",
    "                problems_for_student = list_hash_appropriate(email, number_of_problems, problems_to_do, homework_number, cdf, cdf_score, problems_cdf)\n",
    "                scores = ['2' for n in range(number_of_problems)]\n",
    "                for index in problems_for_student:\n",
    "                    topic=homework[str(homework_number)].problem_set[index].topic\n",
    "                    old_topic=homework[str(homework_number)].problem_set[index].old_topic\n",
    "                    difficulty=homework[str(homework_number)].problem_set[index].difficulty\n",
    "                    score=problem_grader(students[email],\\\n",
    "                        homework[str(homework_number)].problem_set[index])\n",
    "                    students[email].problem_update(score,topic,old_topic,difficulty)\n",
    "                    #second attempt\n",
    "                    if score == False:\n",
    "                        score=problem_grader(students[email],homework[str(homework_number)].problem_set[index])\n",
    "                        students[email].problem_update(score,topic,old_topic,difficulty)\n",
    "                    scores[index]=str(int(score))\n",
    "                grade_lines.append(email+','+','.join(scores)+'\\r\\n')\n",
    "                #improving ability based on results\n",
    "                for index in problems_for_student:\n",
    "                    students[email].problem_update(scores[index],topic,old_topic,\\\n",
    "                        homework[str(homework_number)].problem_set[index].difficulty)\n",
    "        while len(grade_lines)>1:\n",
    "            file_lines.append(grade_lines.pop(np.random.randint(0,len(grade_lines)-1)))\n",
    "        file_lines.append(grade_lines.pop())\n",
    "        file = open(directory+'/hwdata/HW' + str(homework_number) + '_appropriate.csv','w+')\n",
    "        for line in file_lines:\n",
    "            file.write(line)\n",
    "        file.close()\n",
    "    student_file_lines=[]\n",
    "    student_file = open(directory+'/hwdata/final_students_appropriate.csv','w+')\n",
    "    student_file.write('email, ability, intelligence, motivation, consistency, topics')\n",
    "    for email, student in students.items():\n",
    "        student_file.write(email + ', ' + str(student.ability) + ', ' + str(student.intelligence) + ', ' +\\\n",
    "                           str(student.motivation) + ', ' + str(student.consistency) + ', ' +\\\n",
    "                           str(student.topics) + '\\r\\n')\n",
    "    student_file.close()"
   ]
  },
  {
   "cell_type": "markdown",
   "metadata": {},
   "source": [
    "<h1>Graph Makers</h1>"
   ]
  },
  {
   "cell_type": "code",
   "execution_count": 20,
   "metadata": {},
   "outputs": [],
   "source": [
    "def just_make_a_graph(grades, title):\n",
    "    print('mean with all grades',sum(grades)/len(grades))\n",
    "    plt.hist(grades,bins=20)\n",
    "    plt.title(title)\n",
    "    plt.xlabel('Grades')\n",
    "    plt.ylabel('Occurences')\n",
    "    plt.show()\n",
    "    \n",
    "def just_make_a_log_graph(grades, title):\n",
    "    print('mean with all grades',sum(grades)/len(grades))\n",
    "    log_average_grades = np.log(10.1 - grades)\n",
    "    plt.hist(log_average_grades)\n",
    "    plt.title(title)\n",
    "    plt.xlabel('Grades')\n",
    "    plt.ylabel('Occurences')\n",
    "    plt.show()\n",
    "    \n",
    "def graph_grades_progression(data, title):\n",
    "    time = data[0]\n",
    "    data_series = data[1:] \n",
    "    labels=['Random', 'Focus', 'Additional', 'Replacement', 'Appropriate']\n",
    "    for n in range(5):\n",
    "        datum = data_series[n]\n",
    "        plt.plot(time, datum, label=labels[n])\n",
    "    plt.legend(loc=\"upper left\")\n",
    "    plt.title(title)\n",
    "    plt.xlabel('Homework Number')\n",
    "    plt.ylabel('Average Grade')\n",
    "    plt.show()\n",
    "\n",
    "def graph_skills_progression(data, title):\n",
    "    time = data[0]\n",
    "    data_series = data[1:] \n",
    "    labels=['Random', 'Focus', 'Additional', 'Replacement', 'Appropriate']\n",
    "    for n in range(5):\n",
    "        datum = data_series[n]\n",
    "        plt.plot(time, datum, label=labels[n])\n",
    "    plt.legend(loc=\"upper left\")\n",
    "    plt.title(title)\n",
    "    plt.xlabel('Homework Number')\n",
    "    plt.ylabel('Average Skill Score')\n",
    "    plt.show()\n",
    "\n",
    "def student_help_plot(email, homework_number, simulation_type=''):\n",
    "    if homework_number < 5:\n",
    "        print(\"You have not completed enough homework for analysis.\")\n",
    "    else:\n",
    "        scores = data_frame_maker_percentages(homework_number, simulation_type)\n",
    "        scores = scores.drop(['name', 'user_name', 'password', 'school_name'], axis=1)\n",
    "        max_topic = [-float('inf'), 'topic']\n",
    "        min_topic = [float('inf'), 'topic']\n",
    "        topics_rank = [[-float('inf'), 'topic'], [-float('inf'), 'topic'], [-float('inf'), 'topic']]\n",
    "        for column in scores.columns:\n",
    "            student_value = scores.loc[email][column]\n",
    "            column_list = list(scores[column].values)\n",
    "            column_list.sort()\n",
    "            cdf = column_list.index(student_value)/len(column_list)\n",
    "            if max_topic[0] < cdf:\n",
    "                max_topic = [cdf, column]\n",
    "            if min_topic[0] > cdf:\n",
    "                min_topic = [cdf, column]\n",
    "            if topics_rank[0][0] < abs(cdf-0.5):\n",
    "                topics_rank[0] = [abs(cdf-0.5), column]\n",
    "                topics_rank.sort()\n",
    "        topics = [max_topic[1],min_topic[1]]\n",
    "        while len(topics) < 3: \n",
    "            topic = topics_rank.pop(0)[1]\n",
    "            if not topic in topics:\n",
    "                topics.append(topic)\n",
    "        percentages = [list(scores[topics[0]]), list(scores[topics[1]]), list(scores[topics[2]])]\n",
    "        points = [scores.loc[email][topics[0]], scores.loc[email][topics[1]], scores.loc[email][topics[2]]]\n",
    "        fig, ax = plt.subplots()\n",
    "        plt.boxplot(percentages) \n",
    "        plt.title('Your Scores Superimposed on Class Data')\n",
    "        plt.xlabel('Topics')\n",
    "        ax.set_xticklabels(topics)\n",
    "        plt.ylabel('Ratio of Correct Problems')\n",
    "        h, = plt.plot(range(1,4), points, 'go', ms=15)\n",
    "        plt.legend([h],['Your Score'], numpoints=1)\n",
    "        plt.show()"
   ]
  },
  {
   "cell_type": "markdown",
   "metadata": {},
   "source": [
    "<h1>Making Data</h1>"
   ]
  },
  {
   "cell_type": "code",
   "execution_count": 210,
   "metadata": {},
   "outputs": [],
   "source": [
    "#data was made\n",
    "#data_maker()"
   ]
  },
  {
   "cell_type": "markdown",
   "metadata": {},
   "source": [
    "<h1>Determining Location from Grades</h1>"
   ]
  },
  {
   "cell_type": "code",
   "execution_count": 9,
   "metadata": {},
   "outputs": [
    {
     "data": {
      "application/vnd.jupyter.widget-view+json": {
       "model_id": "bb77f1215eb0473199c4841bc7f644b9",
       "version_major": 2,
       "version_minor": 0
      },
      "text/plain": [
       "HBox(children=(IntProgress(value=0, max=51), HTML(value='')))"
      ]
     },
     "metadata": {},
     "output_type": "display_data"
    },
    {
     "name": "stdout",
     "output_type": "stream",
     "text": [
      "\n"
     ]
    }
   ],
   "source": [
    "df = data_frame_maker()"
   ]
  },
  {
   "cell_type": "code",
   "execution_count": 115,
   "metadata": {},
   "outputs": [
    {
     "data": {
      "text/html": [
       "<div>\n",
       "<style scoped>\n",
       "    .dataframe tbody tr th:only-of-type {\n",
       "        vertical-align: middle;\n",
       "    }\n",
       "\n",
       "    .dataframe tbody tr th {\n",
       "        vertical-align: top;\n",
       "    }\n",
       "\n",
       "    .dataframe thead th {\n",
       "        text-align: right;\n",
       "    }\n",
       "</style>\n",
       "<table border=\"1\" class=\"dataframe\">\n",
       "  <thead>\n",
       "    <tr style=\"text-align: right;\">\n",
       "      <th></th>\n",
       "      <th>email</th>\n",
       "      <th>name</th>\n",
       "      <th>user_name</th>\n",
       "      <th>password</th>\n",
       "      <th>school_name</th>\n",
       "      <th>score_1</th>\n",
       "      <th>score_2</th>\n",
       "      <th>score_3</th>\n",
       "      <th>score_4</th>\n",
       "      <th>score_5</th>\n",
       "      <th>...</th>\n",
       "      <th>score_42</th>\n",
       "      <th>score_43</th>\n",
       "      <th>score_44</th>\n",
       "      <th>score_45</th>\n",
       "      <th>score_46</th>\n",
       "      <th>score_47</th>\n",
       "      <th>score_48</th>\n",
       "      <th>score_49</th>\n",
       "      <th>score_50</th>\n",
       "      <th>score_51</th>\n",
       "    </tr>\n",
       "  </thead>\n",
       "  <tbody>\n",
       "    <tr>\n",
       "      <th>0</th>\n",
       "      <td>buriedwindow162@163.com</td>\n",
       "      <td>Josey Feldman</td>\n",
       "      <td>slipperydocker973</td>\n",
       "      <td>DKsLOANYx6</td>\n",
       "      <td>Chandler</td>\n",
       "      <td>8.125</td>\n",
       "      <td>7.777778</td>\n",
       "      <td>8.461538</td>\n",
       "      <td>9.0</td>\n",
       "      <td>10.000</td>\n",
       "      <td>...</td>\n",
       "      <td>10.000000</td>\n",
       "      <td>9.333333</td>\n",
       "      <td>10.0</td>\n",
       "      <td>10.000000</td>\n",
       "      <td>10.0</td>\n",
       "      <td>10.000000</td>\n",
       "      <td>9.0</td>\n",
       "      <td>10.0</td>\n",
       "      <td>10.000000</td>\n",
       "      <td>7.142857</td>\n",
       "    </tr>\n",
       "    <tr>\n",
       "      <th>1</th>\n",
       "      <td>buriedshoes89@gmail.com</td>\n",
       "      <td>Sarah Morgan</td>\n",
       "      <td>fiestyshark715</td>\n",
       "      <td>XRcE9vz8Lf</td>\n",
       "      <td>Chandler</td>\n",
       "      <td>6.250</td>\n",
       "      <td>7.777778</td>\n",
       "      <td>7.692308</td>\n",
       "      <td>8.0</td>\n",
       "      <td>5.000</td>\n",
       "      <td>...</td>\n",
       "      <td>8.181818</td>\n",
       "      <td>8.000000</td>\n",
       "      <td>10.0</td>\n",
       "      <td>7.777778</td>\n",
       "      <td>8.0</td>\n",
       "      <td>10.000000</td>\n",
       "      <td>8.0</td>\n",
       "      <td>9.0</td>\n",
       "      <td>8.571429</td>\n",
       "      <td>8.571429</td>\n",
       "    </tr>\n",
       "    <tr>\n",
       "      <th>2</th>\n",
       "      <td>soiledchrysler517@163.com</td>\n",
       "      <td>Jenny Dunn</td>\n",
       "      <td>snarkyhorse863</td>\n",
       "      <td>H3AnnRHKk7</td>\n",
       "      <td>Chandler</td>\n",
       "      <td>7.500</td>\n",
       "      <td>7.777778</td>\n",
       "      <td>7.692308</td>\n",
       "      <td>9.0</td>\n",
       "      <td>8.125</td>\n",
       "      <td>...</td>\n",
       "      <td>8.181818</td>\n",
       "      <td>8.000000</td>\n",
       "      <td>9.0</td>\n",
       "      <td>10.000000</td>\n",
       "      <td>10.0</td>\n",
       "      <td>6.923077</td>\n",
       "      <td>10.0</td>\n",
       "      <td>9.0</td>\n",
       "      <td>8.571429</td>\n",
       "      <td>10.000000</td>\n",
       "    </tr>\n",
       "    <tr>\n",
       "      <th>3</th>\n",
       "      <td>clamydrum151@yahoo.com</td>\n",
       "      <td>Abe Young</td>\n",
       "      <td>dankguitar992</td>\n",
       "      <td>NkF@Knwh%3</td>\n",
       "      <td>Chandler</td>\n",
       "      <td>5.000</td>\n",
       "      <td>5.555556</td>\n",
       "      <td>8.461538</td>\n",
       "      <td>8.0</td>\n",
       "      <td>6.875</td>\n",
       "      <td>...</td>\n",
       "      <td>8.181818</td>\n",
       "      <td>10.000000</td>\n",
       "      <td>10.0</td>\n",
       "      <td>10.000000</td>\n",
       "      <td>8.0</td>\n",
       "      <td>7.692308</td>\n",
       "      <td>7.0</td>\n",
       "      <td>10.0</td>\n",
       "      <td>7.142857</td>\n",
       "      <td>10.000000</td>\n",
       "    </tr>\n",
       "    <tr>\n",
       "      <th>4</th>\n",
       "      <td>replacementblanket359@outlook.com</td>\n",
       "      <td>Yolanda Parker</td>\n",
       "      <td>hipbacon727</td>\n",
       "      <td>iUXON1hSGn</td>\n",
       "      <td>Chandler</td>\n",
       "      <td>9.375</td>\n",
       "      <td>7.777778</td>\n",
       "      <td>8.461538</td>\n",
       "      <td>9.0</td>\n",
       "      <td>8.125</td>\n",
       "      <td>...</td>\n",
       "      <td>9.090909</td>\n",
       "      <td>10.000000</td>\n",
       "      <td>10.0</td>\n",
       "      <td>8.888889</td>\n",
       "      <td>10.0</td>\n",
       "      <td>10.000000</td>\n",
       "      <td>8.0</td>\n",
       "      <td>8.0</td>\n",
       "      <td>7.142857</td>\n",
       "      <td>10.000000</td>\n",
       "    </tr>\n",
       "  </tbody>\n",
       "</table>\n",
       "<p>5 rows × 56 columns</p>\n",
       "</div>"
      ],
      "text/plain": [
       "                               email            name          user_name  \\\n",
       "0            buriedwindow162@163.com   Josey Feldman  slipperydocker973   \n",
       "1            buriedshoes89@gmail.com    Sarah Morgan     fiestyshark715   \n",
       "2          soiledchrysler517@163.com      Jenny Dunn     snarkyhorse863   \n",
       "3             clamydrum151@yahoo.com       Abe Young      dankguitar992   \n",
       "4  replacementblanket359@outlook.com  Yolanda Parker        hipbacon727   \n",
       "\n",
       "     password school_name  score_1   score_2   score_3  score_4  score_5  ...  \\\n",
       "0  DKsLOANYx6    Chandler    8.125  7.777778  8.461538      9.0   10.000  ...   \n",
       "1  XRcE9vz8Lf    Chandler    6.250  7.777778  7.692308      8.0    5.000  ...   \n",
       "2  H3AnnRHKk7    Chandler    7.500  7.777778  7.692308      9.0    8.125  ...   \n",
       "3  NkF@Knwh%3    Chandler    5.000  5.555556  8.461538      8.0    6.875  ...   \n",
       "4  iUXON1hSGn    Chandler    9.375  7.777778  8.461538      9.0    8.125  ...   \n",
       "\n",
       "    score_42   score_43  score_44   score_45  score_46   score_47  score_48  \\\n",
       "0  10.000000   9.333333      10.0  10.000000      10.0  10.000000       9.0   \n",
       "1   8.181818   8.000000      10.0   7.777778       8.0  10.000000       8.0   \n",
       "2   8.181818   8.000000       9.0  10.000000      10.0   6.923077      10.0   \n",
       "3   8.181818  10.000000      10.0  10.000000       8.0   7.692308       7.0   \n",
       "4   9.090909  10.000000      10.0   8.888889      10.0  10.000000       8.0   \n",
       "\n",
       "   score_49   score_50   score_51  \n",
       "0      10.0  10.000000   7.142857  \n",
       "1       9.0   8.571429   8.571429  \n",
       "2       9.0   8.571429  10.000000  \n",
       "3      10.0   7.142857  10.000000  \n",
       "4       8.0   7.142857  10.000000  \n",
       "\n",
       "[5 rows x 56 columns]"
      ]
     },
     "execution_count": 115,
     "metadata": {},
     "output_type": "execute_result"
    }
   ],
   "source": [
    "df.head()"
   ]
  },
  {
   "cell_type": "code",
   "execution_count": 116,
   "metadata": {},
   "outputs": [
    {
     "data": {
      "text/plain": [
       "array(['Chandler', 'Ahwatukee', 'Scottsdale', 'Phoenix', 'Dallas',\n",
       "       'Washington D.C.', 'Beijing', 'Shanghai', 'Bangkok', 'Mesa'],\n",
       "      dtype=object)"
      ]
     },
     "execution_count": 116,
     "metadata": {},
     "output_type": "execute_result"
    }
   ],
   "source": [
    "df['school_name'].unique()"
   ]
  },
  {
   "cell_type": "code",
   "execution_count": 117,
   "metadata": {},
   "outputs": [],
   "source": [
    "df = df.drop(['email', 'name', 'user_name', 'password'], axis=1)\n",
    "df = df.replace({'Chandler':0, 'Ahwatukee':1, 'Scottsdale':2, 'Phoenix':3,\\\n",
    "                 'Dallas':4, 'Washington D.C.':5, 'Beijing':6, 'Shanghai':7,\\\n",
    "                 'Bangkok':8, 'Mesa':9})"
   ]
  },
  {
   "cell_type": "code",
   "execution_count": 141,
   "metadata": {},
   "outputs": [
    {
     "name": "stdout",
     "output_type": "stream",
     "text": [
      "mean with all grades 7.793287240938501\n"
     ]
    },
    {
     "data": {
      "image/png": "[encoded data removed]",
      "text/plain": [
       "<Figure size 432x288 with 1 Axes>"
      ]
     },
     "metadata": {
      "needs_background": "light"
     },
     "output_type": "display_data"
    }
   ],
   "source": [
    "grades = list(df.drop(['school_name'], axis=1).stack())\n",
    "just_make_a_graph(grades, 'Grades from Simulation')"
   ]
  },
  {
   "cell_type": "code",
   "execution_count": 118,
   "metadata": {},
   "outputs": [],
   "source": [
    "y = df['school_name']\n",
    "X = df.drop(columns=['school_name'])\n",
    "X_train, X_test, y_train, y_test = train_test_split(X, y, random_state=42, train_size=20)"
   ]
  },
  {
   "cell_type": "code",
   "execution_count": 119,
   "metadata": {},
   "outputs": [
    {
     "name": "stdout",
     "output_type": "stream",
     "text": [
      "0.14331550802139037\n"
     ]
    }
   ],
   "source": [
    "warnings.simplefilter('ignore')\n",
    "clf = LogisticRegression(solver='lbfgs')\n",
    "clf.fit(X_train, y_train)\n",
    "print(accuracy_score(clf.predict(X_test), y_test))"
   ]
  },
  {
   "cell_type": "code",
   "execution_count": 120,
   "metadata": {},
   "outputs": [
    {
     "name": "stdout",
     "output_type": "stream",
     "text": [
      "-0.2867057879381745\n"
     ]
    }
   ],
   "source": [
    "clf = RandomForestRegressor(n_estimators=10)\n",
    "clf.fit(X_train, y_train)\n",
    "print(clf.score(X_test, y_test))"
   ]
  },
  {
   "cell_type": "code",
   "execution_count": 121,
   "metadata": {},
   "outputs": [
    {
     "name": "stdout",
     "output_type": "stream",
     "text": [
      "0.12941176470588237\n"
     ]
    }
   ],
   "source": [
    "clf = MultinomialNB()\n",
    "clf.fit(X_train, y_train)\n",
    "print(clf.score(X_test, y_test))"
   ]
  },
  {
   "cell_type": "code",
   "execution_count": 122,
   "metadata": {},
   "outputs": [],
   "source": [
    "X = df[['score_1','score_2','score_3']]\n",
    "X_train, X_test, y_train, y_test = train_test_split(X, y, random_state=42, train_size=20)"
   ]
  },
  {
   "cell_type": "code",
   "execution_count": 123,
   "metadata": {},
   "outputs": [
    {
     "name": "stdout",
     "output_type": "stream",
     "text": [
      "0.13903743315508021\n"
     ]
    }
   ],
   "source": [
    "warnings.simplefilter('ignore')\n",
    "clf = LogisticRegression(solver='lbfgs')\n",
    "clf.fit(X_train, y_train)\n",
    "print(accuracy_score(clf.predict(X_test), y_test))"
   ]
  },
  {
   "cell_type": "code",
   "execution_count": 124,
   "metadata": {},
   "outputs": [
    {
     "name": "stdout",
     "output_type": "stream",
     "text": [
      "-0.5678614374090858\n"
     ]
    }
   ],
   "source": [
    "clf = RandomForestRegressor(n_estimators=10)\n",
    "clf.fit(X_train, y_train)\n",
    "print(clf.score(X_test, y_test))"
   ]
  },
  {
   "cell_type": "code",
   "execution_count": 125,
   "metadata": {},
   "outputs": [
    {
     "name": "stdout",
     "output_type": "stream",
     "text": [
      "0.11016042780748662\n"
     ]
    }
   ],
   "source": [
    "clf = MultinomialNB()\n",
    "clf.fit(X_train, y_train)\n",
    "print(clf.score(X_test, y_test))"
   ]
  },
  {
   "cell_type": "markdown",
   "metadata": {},
   "source": [
    "<h1>Complete Grades</h1>"
   ]
  },
  {
   "cell_type": "code",
   "execution_count": 144,
   "metadata": {},
   "outputs": [
    {
     "name": "stdout",
     "output_type": "stream",
     "text": [
      "mean with all grades 7.525050003806549\n"
     ]
    },
    {
     "data": {
      "image/png": "[encoded data removed]",
      "text/plain": [
       "<Figure size 432x288 with 1 Axes>"
      ]
     },
     "metadata": {
      "needs_background": "light"
     },
     "output_type": "display_data"
    }
   ],
   "source": [
    "grades = get_grades()\n",
    "just_make_a_graph(grades,'Homework Grades With Random Homework')"
   ]
  },
  {
   "cell_type": "code",
   "execution_count": 153,
   "metadata": {},
   "outputs": [],
   "source": [
    "#data with focus was made\n",
    "#data_maker_focus()"
   ]
  },
  {
   "cell_type": "code",
   "execution_count": 154,
   "metadata": {},
   "outputs": [
    {
     "name": "stdout",
     "output_type": "stream",
     "text": [
      "mean with all grades 7.331140823981158\n"
     ]
    },
    {
     "data": {
      "image/png": "[encoded data removed]",
      "text/plain": [
       "<Figure size 432x288 with 1 Axes>"
      ]
     },
     "metadata": {
      "needs_background": "light"
     },
     "output_type": "display_data"
    }
   ],
   "source": [
    "grades_with_focus = get_grades('_focus')\n",
    "just_make_a_graph(grades_with_focus,'Homework Grades With Homework Based on Recent Mistakes')"
   ]
  },
  {
   "cell_type": "code",
   "execution_count": 155,
   "metadata": {},
   "outputs": [
    {
     "name": "stdout",
     "output_type": "stream",
     "text": [
      "mean with all grades 7.428095413893799\n"
     ]
    },
    {
     "data": {
      "image/png": "[encoded data removed]",
      "text/plain": [
       "<Figure size 432x288 with 1 Axes>"
      ]
     },
     "metadata": {
      "needs_background": "light"
     },
     "output_type": "display_data"
    }
   ],
   "source": [
    "grades_total = grades + grades_with_focus\n",
    "just_make_a_graph(grades_total,'Total Grades')"
   ]
  },
  {
   "cell_type": "code",
   "execution_count": 157,
   "metadata": {},
   "outputs": [
    {
     "data": {
      "application/vnd.jupyter.widget-view+json": {
       "model_id": "0c4385ba1eb6473bbefad49ef8c74cc1",
       "version_major": 2,
       "version_minor": 0
      },
      "text/plain": [
       "HBox(children=(IntProgress(value=0, max=1000000), HTML(value='')))"
      ]
     },
     "metadata": {},
     "output_type": "display_data"
    },
    {
     "name": "stdout",
     "output_type": "stream",
     "text": [
      "\n",
      "p = 0\n"
     ]
    }
   ],
   "source": [
    "grades_total = np.array(grades_total)\n",
    "size = int(len(grades_total)/2)\n",
    "trials = 10**6\n",
    "grades_mean = sum(grades)/len(grades)\n",
    "grades_with_focus_mean = sum(grades_with_focus)/len(grades_with_focus)\n",
    "mean_diffs=np.empty(trials)\n",
    "for trial in tqdm(range(trials)):\n",
    "    sample_1 = np.random.choice(grades_total,size,replace=True)\n",
    "    sample_2 = np.random.choice(grades_total,size,replace=True)\n",
    "    mean_diffs[trial] = np.mean(sample_1)-np.mean(sample_2)\n",
    "p=np.sum(mean_diffs >= grades_mean-grades_with_focus_mean)\n",
    "print('p =',p)"
   ]
  },
  {
   "cell_type": "code",
   "execution_count": 158,
   "metadata": {},
   "outputs": [
    {
     "data": {
      "image/png": "[encoded data removed]",
      "text/plain": [
       "<Figure size 432x288 with 1 Axes>"
      ]
     },
     "metadata": {
      "needs_background": "light"
     },
     "output_type": "display_data"
    }
   ],
   "source": [
    "    plt.hist(mean_diffs,bins=20)\n",
    "    plt.title('Difference of Means')\n",
    "    plt.xlabel('Differences')\n",
    "    plt.ylabel('Occurences')\n",
    "    plt.show()"
   ]
  },
  {
   "cell_type": "code",
   "execution_count": 159,
   "metadata": {},
   "outputs": [
    {
     "name": "stdout",
     "output_type": "stream",
     "text": [
      "mean with all grades 7.772668318592409\n"
     ]
    },
    {
     "data": {
      "image/png": "[encoded data removed]",
      "text/plain": [
       "<Figure size 432x288 with 1 Axes>"
      ]
     },
     "metadata": {
      "needs_background": "light"
     },
     "output_type": "display_data"
    }
   ],
   "source": [
    "average_grades = data_frame_homework_percentages(50).Average\n",
    "average_grades = np.array(average_grades)\n",
    "just_make_a_log_graph(average_grades, 'Homework Grades With Random Homework')"
   ]
  },
  {
   "cell_type": "code",
   "execution_count": 160,
   "metadata": {},
   "outputs": [
    {
     "name": "stdout",
     "output_type": "stream",
     "text": [
      "mean with all grades 7.574929747099909\n"
     ]
    },
    {
     "data": {
      "image/png": "[encoded data removed]",
      "text/plain": [
       "<Figure size 432x288 with 1 Axes>"
      ]
     },
     "metadata": {
      "needs_background": "light"
     },
     "output_type": "display_data"
    }
   ],
   "source": [
    "average_grades = data_frame_homework_percentages(50,'_focus').Average\n",
    "average_grades = np.array(average_grades)\n",
    "just_make_a_log_graph(average_grades, 'Homework Grades With Focus')"
   ]
  },
  {
   "cell_type": "markdown",
   "metadata": {},
   "source": [
    "<h1>Adding Additional Problems</h1>"
   ]
  },
  {
   "cell_type": "code",
   "execution_count": null,
   "metadata": {},
   "outputs": [],
   "source": [
    "#data with additional problems was made\n",
    "#data_maker_additional()"
   ]
  },
  {
   "cell_type": "code",
   "execution_count": 163,
   "metadata": {},
   "outputs": [
    {
     "name": "stdout",
     "output_type": "stream",
     "text": [
      "mean with all grades 7.44246604961124\n"
     ]
    },
    {
     "data": {
      "image/png": "[encoded data removed]",
      "text/plain": [
       "<Figure size 432x288 with 1 Axes>"
      ]
     },
     "metadata": {
      "needs_background": "light"
     },
     "output_type": "display_data"
    }
   ],
   "source": [
    "grades_additional = get_grades('_additional')\n",
    "just_make_a_graph(grades_additional, 'Homework With Additional Problems')"
   ]
  },
  {
   "cell_type": "code",
   "execution_count": 164,
   "metadata": {},
   "outputs": [
    {
     "name": "stdout",
     "output_type": "stream",
     "text": [
      "mean with all grades 7.774836679520762\n"
     ]
    },
    {
     "data": {
      "image/png": "[encoded data removed]",
      "text/plain": [
       "<Figure size 432x288 with 1 Axes>"
      ]
     },
     "metadata": {
      "needs_background": "light"
     },
     "output_type": "display_data"
    }
   ],
   "source": [
    "average_grades = data_frame_homework_percentages(50,'_additional').Average\n",
    "average_grades = np.array(average_grades)\n",
    "just_make_a_log_graph(average_grades, 'Homework Grades With Additional Problems')"
   ]
  },
  {
   "cell_type": "markdown",
   "metadata": {},
   "source": [
    "<h1>Replacing Additional Problems</h1>"
   ]
  },
  {
   "cell_type": "code",
   "execution_count": null,
   "metadata": {},
   "outputs": [],
   "source": [
    "#data with replacement was made\n",
    "#data_maker_replace()"
   ]
  },
  {
   "cell_type": "code",
   "execution_count": 165,
   "metadata": {},
   "outputs": [
    {
     "name": "stdout",
     "output_type": "stream",
     "text": [
      "mean with all grades 7.423406988590318\n"
     ]
    },
    {
     "data": {
      "image/png": "[encoded data removed]",
      "text/plain": [
       "<Figure size 432x288 with 1 Axes>"
      ]
     },
     "metadata": {
      "needs_background": "light"
     },
     "output_type": "display_data"
    }
   ],
   "source": [
    "grades_additional = get_grades('_replace')\n",
    "just_make_a_graph(grades_additional, 'Homework Grades With Replacement Problems')"
   ]
  },
  {
   "cell_type": "code",
   "execution_count": 166,
   "metadata": {},
   "outputs": [
    {
     "name": "stdout",
     "output_type": "stream",
     "text": [
      "mean with all grades 7.648812469961689\n"
     ]
    },
    {
     "data": {
      "image/png": "[encoded data removed]",
      "text/plain": [
       "<Figure size 432x288 with 1 Axes>"
      ]
     },
     "metadata": {
      "needs_background": "light"
     },
     "output_type": "display_data"
    }
   ],
   "source": [
    "average_grades = data_frame_homework_percentages(50,'_replace').Average\n",
    "average_grades = np.array(average_grades)\n",
    "just_make_a_log_graph(average_grades, 'Homework Grades Replacing Additional Problems')"
   ]
  },
  {
   "cell_type": "markdown",
   "metadata": {},
   "source": [
    "<h1>Appropriate Problems</h1>"
   ]
  },
  {
   "cell_type": "code",
   "execution_count": null,
   "metadata": {},
   "outputs": [],
   "source": [
    "#data with appropriate was made\n",
    "#data_maker_appropriate()"
   ]
  },
  {
   "cell_type": "code",
   "execution_count": 10,
   "metadata": {},
   "outputs": [
    {
     "name": "stdout",
     "output_type": "stream",
     "text": [
      "mean with all grades 7.548822041832532\n"
     ]
    },
    {
     "data": {
      "image/png": "[encoded data removed]",
      "text/plain": [
       "<Figure size 432x288 with 1 Axes>"
      ]
     },
     "metadata": {
      "needs_background": "light"
     },
     "output_type": "display_data"
    }
   ],
   "source": [
    "grades_additional = get_grades('_appropriate')\n",
    "just_make_a_graph(grades_additional, 'Homework Grades With Appropriate Problems')"
   ]
  },
  {
   "cell_type": "code",
   "execution_count": 11,
   "metadata": {},
   "outputs": [
    {
     "name": "stdout",
     "output_type": "stream",
     "text": [
      "mean with all grades 7.832536974078861\n"
     ]
    },
    {
     "data": {
      "image/png": "[encoded data removed]",
      "text/plain": [
       "<Figure size 432x288 with 1 Axes>"
      ]
     },
     "metadata": {
      "needs_background": "light"
     },
     "output_type": "display_data"
    }
   ],
   "source": [
    "average_grades = data_frame_homework_percentages(50,'_appropriate').Average\n",
    "average_grades = np.array(average_grades)\n",
    "just_make_a_log_graph(average_grades, 'Homework Grades With Appropriate Problems')"
   ]
  },
  {
   "cell_type": "markdown",
   "metadata": {},
   "source": [
    "<h1>Final Grades</h1>"
   ]
  },
  {
   "cell_type": "code",
   "execution_count": 13,
   "metadata": {},
   "outputs": [
    {
     "name": "stdout",
     "output_type": "stream",
     "text": [
      "mean with all grades 8.824233358264742\n"
     ]
    },
    {
     "data": {
      "image/png": "[encoded data removed]",
      "text/plain": [
       "<Figure size 432x288 with 1 Axes>"
      ]
     },
     "metadata": {
      "needs_background": "light"
     },
     "output_type": "display_data"
    },
    {
     "name": "stdout",
     "output_type": "stream",
     "text": [
      "mean with all grades 7.678384442782303\n"
     ]
    },
    {
     "data": {
      "image/png": "[encoded data removed]",
      "text/plain": [
       "<Figure size 432x288 with 1 Axes>"
      ]
     },
     "metadata": {
      "needs_background": "light"
     },
     "output_type": "display_data"
    },
    {
     "name": "stdout",
     "output_type": "stream",
     "text": [
      "mean with all grades 8.844814260782812\n"
     ]
    },
    {
     "data": {
      "image/png": "[encoded data removed]",
      "text/plain": [
       "<Figure size 432x288 with 1 Axes>"
      ]
     },
     "metadata": {
      "needs_background": "light"
     },
     "output_type": "display_data"
    },
    {
     "name": "stdout",
     "output_type": "stream",
     "text": [
      "mean with all grades 8.711194215906232\n"
     ]
    },
    {
     "data": {
      "image/png": "[encoded data removed]",
      "text/plain": [
       "<Figure size 432x288 with 1 Axes>"
      ]
     },
     "metadata": {
      "needs_background": "light"
     },
     "output_type": "display_data"
    },
    {
     "name": "stdout",
     "output_type": "stream",
     "text": [
      "mean with all grades 8.76020942408377\n"
     ]
    },
    {
     "data": {
      "image/png": "[encoded data removed]",
      "text/plain": [
       "<Figure size 432x288 with 1 Axes>"
      ]
     },
     "metadata": {
      "needs_background": "light"
     },
     "output_type": "display_data"
    }
   ],
   "source": [
    "grades = data_frame_homework_score(51).Score\n",
    "grades_focus = data_frame_homework_score(51,'_focus').Score\n",
    "grades_additional = data_frame_homework_score(51, '_additional').Score\n",
    "grades_replace = data_frame_homework_score(51,'_replace').Score\n",
    "grades_appropriate = data_frame_homework_score(51,'_appropriate').Score\n",
    "\n",
    "just_make_a_graph(grades, 'Final Exam After Random Homeworks')\n",
    "just_make_a_graph(grades_focus, 'Final Exam After Homeworks With Focus')\n",
    "just_make_a_graph(grades_additional, 'Final Exam After Homeworks With Addtional Problems')\n",
    "just_make_a_graph(grades_replace, 'Final Exam After Homeworks With Problem Replacement')\n",
    "just_make_a_graph(grades_appropriate, 'Final Exam After Homeworks With Appropriate Problems')\n"
   ]
  },
  {
   "cell_type": "markdown",
   "metadata": {},
   "source": [
    "<h1>Grades by Week</h1>"
   ]
  },
  {
   "cell_type": "code",
   "execution_count": 16,
   "metadata": {},
   "outputs": [
    {
     "data": {
      "application/vnd.jupyter.widget-view+json": {
       "model_id": "af6163a15f9f48368ecbe74ec9c345fb",
       "version_major": 2,
       "version_minor": 0
      },
      "text/plain": [
       "HBox(children=(IntProgress(value=0, max=50), HTML(value='')))"
      ]
     },
     "metadata": {},
     "output_type": "display_data"
    },
    {
     "name": "stdout",
     "output_type": "stream",
     "text": [
      "\n"
     ]
    },
    {
     "data": {
      "image/png": "[encoded data removed]",
      "text/plain": [
       "<Figure size 432x288 with 1 Axes>"
      ]
     },
     "metadata": {
      "needs_background": "light"
     },
     "output_type": "display_data"
    }
   ],
   "source": [
    "data_frame_skills = data_frame_grade_by_homework()\n",
    "graph_grades_progression(data_frame_skills, 'Average Grades by Homework')"
   ]
  },
  {
   "cell_type": "markdown",
   "metadata": {},
   "source": [
    "<h1>Skills by Week</h1>"
   ]
  },
  {
   "cell_type": "code",
   "execution_count": 35,
   "metadata": {},
   "outputs": [
    {
     "data": {
      "application/vnd.jupyter.widget-view+json": {
       "model_id": "222471566db14d21bc1aebf01bfdfcf3",
       "version_major": 2,
       "version_minor": 0
      },
      "text/plain": [
       "HBox(children=(IntProgress(value=0, max=45), HTML(value='')))"
      ]
     },
     "metadata": {},
     "output_type": "display_data"
    },
    {
     "data": {
      "image/png": "[encoded data removed]",
      "text/plain": [
       "<Figure size 432x288 with 1 Axes>"
      ]
     },
     "metadata": {
      "needs_background": "light"
     },
     "output_type": "display_data"
    }
   ],
   "source": [
    "data_frame_skills = data_frame_skills_by_homework()\n",
    "graph_skills_progression(data_frame_skills, 'Average Skills by Homework')"
   ]
  },
  {
   "cell_type": "markdown",
   "metadata": {},
   "source": [
    "<h1>Summarizing Strengths and Weaknesses to the Students</h1>"
   ]
  },
  {
   "cell_type": "code",
   "execution_count": 18,
   "metadata": {},
   "outputs": [
    {
     "data": {
      "image/png": "[encoded data removed]",
      "text/plain": [
       "<Figure size 432x288 with 1 Axes>"
      ]
     },
     "metadata": {
      "needs_background": "light"
     },
     "output_type": "display_data"
    }
   ],
   "source": [
    "df = pd.read_csv(directory+'/hwdata/HW1.csv', index_col='email')\n",
    "email = list(df.index)[0]\n",
    "student_help_plot(email,10)"
   ]
  }
 ],
 "metadata": {
  "kernelspec": {
   "display_name": "Python 3",
   "language": "python",
   "name": "python3"
  },
  "language_info": {
   "codemirror_mode": {
    "name": "ipython",
    "version": 3
   },
   "file_extension": ".py",
   "mimetype": "text/x-python",
   "name": "python",
   "nbconvert_exporter": "python",
   "pygments_lexer": "ipython3",
   "version": "3.6.8"
  }
 },
 "nbformat": 4,
 "nbformat_minor": 2
}
