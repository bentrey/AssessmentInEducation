{
 "cells": [
  {
   "cell_type": "markdown",
   "metadata": {},
   "source": [
    "<p>Ben Trey<br>\n",
    "Project: Capstone Project 1: Exploratory Data Analysis<br>\n",
    "Data Science Track<br>\n",
    "2019/10/16<br>\n",
    "</p>"
   ]
  },
  {
   "cell_type": "markdown",
   "metadata": {},
   "source": [
    "<p><b>Overview:</b><br>\n",
    "This project explores the relationship between individualized education and student growth.<br><br>\n",
    "    \n",
    "<b>Question 1:</b><br>\n",
    "Are there variables that are particularly significant in terms of explaining the answer to your project question?<br>\n",
    "The variables of interest are the homework grades, the lists of problems given to each student, and the difficulty of each problem.<br> \n",
    "\n",
    "<b>Question 2:</b><br>\n",
    "Are there strong correlations between pairs of independent variables or between an independent and a dependent variable?<br>\n",
    "There is a strong correlation between the problems chosen and the students homework scores. I examined the effect of giving students problems they got wrong in previous homeworks. As each student has a seperate ability that improves when they complete a problem, I suspected reviewing problems a student got wrong in the previous 3 homeworks would improve their score. I discovered giving the students problems with topics they struggled with caused them to learn at a slower rate. At the end of the semester the final homework showed a statistically signifigant difference between the two methods. \n",
    "\n",
    "<b>Question 3:</b><br>\n",
    "What are the most appropriate tests to use to analyse these relationships?<br>\n",
    "To test the statistical signifigance between the means of the data sets I used the bootstrap method. \n",
    "</p>"
   ]
  },
  {
   "cell_type": "markdown",
   "metadata": {},
   "source": [
    "<h1>Simulation Code</h1>"
   ]
  },
  {
   "cell_type": "code",
   "execution_count": 1,
   "metadata": {},
   "outputs": [],
   "source": [
    "import numpy as np\n",
    "import pandas as pd\n",
    "import matplotlib.pyplot as plt\n",
    "import math\n",
    "import random\n",
    "import sys\n",
    "from tqdm import tqdm_notebook as tqdm"
   ]
  },
  {
   "cell_type": "code",
   "execution_count": 126,
   "metadata": {},
   "outputs": [],
   "source": [
    "directory='/mnt/c/users/我的电脑/desktop/springboard/capstone'\n",
    "\n",
    "#This class will simulate a students performance \n",
    "class Student:\n",
    "    def __init__(self, school_quality, email):\n",
    "        #ability represents a student's baseline math skills\n",
    "        #intelligence represents a student's potential for growth\n",
    "        #motivation represents a student's motivation for growth \n",
    "        #consistency represents a student's consistency in performance\n",
    "        self.email = email\n",
    "        self.ability = school_quality - 1.0 + 2.0*np.random.random()\n",
    "        self.intelligence = school_quality - 1.0 + 2.0*np.random.random()\n",
    "        self.motivation = school_quality - 1.0 + 2.0*np.random.random()\n",
    "        self.consistency = school_quality - 1.0 + 2.0*np.random.random()\n",
    "        self.topics={}\n",
    "        self.C_list=[1.0,1.0,1.0]\n",
    "        \n",
    "    #problemUpdate updates the student's math ability after a correct problem    \n",
    "    def problem_update(self, correct, topic, old_topic, difficulty):\n",
    "        if not topic in self.topics:\n",
    "            self.topics[str(topic)]=-1.0+2.0*np.random.random()\n",
    "        if not old_topic in self.topics:\n",
    "            self.topics[str(old_topic)]=-1.0+2.0*np.random.random()\n",
    "        if correct:\n",
    "            #increase intelligence with a certain probability\n",
    "            #increase consistency with a certain probability\n",
    "            #increase motivation with a certain probability\n",
    "            if np.exp(self.ability) / (1+np.exp(self.ability)) > np.random.random():\n",
    "                self.ability = self.ability + difficulty/100.0\n",
    "            if np.exp(self.intelligence) / (1+np.exp(self.intelligence)) > np.random.random():\n",
    "                self.intelligence = self.intelligence + difficulty/1000.0\n",
    "            if np.exp(self.consistency)/(1+np.exp(self.consistency)) > np.random.random():\n",
    "                self.consistency = self.consistency + difficulty/1000.0\n",
    "            if np.exp(self.motivation)/(1+np.exp(self.motivation)) > np.random.random():\n",
    "                self.motivation = self.motivation + difficulty/100.0\n",
    "            if np.exp(self.topics[topic])/(1+np.exp(self.topics[topic])) >np.random.random():\n",
    "                self.topics[topic] = self.topics[topic]+difficulty/100.0\n",
    "            if np.exp(self.topics[old_topic])/(1+np.exp(self.topics[str(old_topic)])) >np.random.random():\n",
    "                self.topics[old_topic] = self.topics[old_topic]+difficulty/100.0\n",
    "        else:\n",
    "            #decrease ability with a certain probability\n",
    "            #decrease intelligence with a certain probability\n",
    "            #decrease consistency with a certain probability\n",
    "            #decrease motivation with a certain probability\n",
    "            if np.exp(self.ability)/(1+np.exp(self.ability)) < np.random.random():\n",
    "                self.math_ability = self.ability - difficulty/ 100.0\n",
    "            if np.exp(self.intelligence)/(1+np.exp(self.intelligence)) < np.random.random():\n",
    "                self.intelligence = self.intelligence - difficulty/1000.0\n",
    "            if np.exp(self.consistency)/(1+np.exp(self.consistency)) < np.random.random():\n",
    "                self.consistency = self.consistency - difficulty/1000.0\n",
    "            if np.exp(self.motivation)/(1+np.exp(self.motivation)) < np.random.random():\n",
    "                self.motivation = self.motivation - difficulty/100.0\n",
    "            if np.exp(self.topics[topic])/(1+np.exp(self.topics[topic])) < np.random.random():\n",
    "                self.topics[topic] = self.topics[topic] - difficulty/100.0\n",
    "            if np.exp(self.topics[old_topic])/(1+np.exp(self.topics[old_topic])) < np.random.random():\n",
    "                self.topics[old_topic] = self.topics[old_topic] - difficulty/100.0\n",
    "        \n",
    "class School:\n",
    "    def __init__(self,name):\n",
    "        self.name = name\n",
    "        self.school_quality=np.random.random()\n",
    "        self.students = {}\n",
    "\n",
    "class Homework:\n",
    "    def __init__(self,number):\n",
    "        self.number = number\n",
    "        self.problem_set = []\n",
    "        self.topics = set()\n",
    "        \n",
    "class Problem:\n",
    "    def __init__(self, topic, old_topic, discipline, difficulty):\n",
    "        self.topic = str(topic)\n",
    "        self.old_topic = str(old_topic)\n",
    "        self.discipline = discipline\n",
    "        self.difficulty = difficulty\n",
    "\n",
    "class Student_Profile:\n",
    "    def __init__(self, real_name, user_name, password, email, school):\n",
    "        self.real_name = real_name\n",
    "        self.user_name = user_name\n",
    "        self.password = password\n",
    "        self.email = email\n",
    "        self.school = school \n",
    "\n",
    "class Homework_Holder:\n",
    "    def __init__(self):\n",
    "        self.homeworks={}\n",
    "\n",
    "def user_name_creator():\n",
    "    pre=['dank', 'snarky', 'lunar', 'fiesty', 'fruity', 'spicy', 'spikey', 'slippery', 'sleepy', \\\n",
    "        'spooky', 'blinking', 'burping', 'sugary', 'dark', 'dinky', 'droopy', 'blind', 'hairy', \\\n",
    "        'hip', 'lame', 'fiery']\n",
    "    fix=['tiger', 'shark', 'wheels', 'nightmare', 'guitar', 'pants', 'cat', 'blinker', 'bum', \\\n",
    "        'bacon', 'stinker', 'stripe', 'horse', 'monkey', 'popeye', 'eyes', 'moves', 'figher', \\\n",
    "        'liner', 'drifter', 'docker']\n",
    "    return np.random.choice(pre) + np.random.choice(fix) + str(np.random.randint(1,1000))\n",
    "\n",
    "def password_creator():\n",
    "    chars = 'abcdefghijklmnopqrstuvwxyzABCDEFGHIJKLMNOPQRSTUVWXYZ1234567890!@#$%^&*'\n",
    "    password = ''\n",
    "    while len(password) < 10:\n",
    "        password += chars[np.random.randint(0,len(chars)-1)]\n",
    "    return password\n",
    "\n",
    "def real_name_creator():\n",
    "    first = ['Abe', 'Michael', 'Blanche', 'Bobby', 'Johnny', 'Ryan', 'Jasmine', 'Sarah', 'Jenny', \\\n",
    "        'Josey', 'Eva', 'Wendy', 'Kelly', 'Wayne', 'Larry', 'Cindy', 'Sunny', 'Yolanda', 'Coco', \\\n",
    "        'Helen', 'Barette', 'Judy', 'Teddy', 'Frank', 'Victor', 'Yvonne', 'Howard', 'Richard', \\\n",
    "        'Angel', 'Harry', 'Sammy', 'Alex', 'Albert', 'David', 'Lester', 'Maddy', 'Patrick', \\\n",
    "        'Holly', 'Dan', 'Matt', 'Violet', 'Skylar', 'Patricia', 'Oscar', 'Edgar', 'Owen', 'Eric', \\\n",
    "        'Grace', 'Amy', 'Otto', 'Gunther', 'Franz', 'Lina', 'Nora','Angela', 'Olivia','Oliver']\n",
    "    last = ['Zhang', 'Zhu', 'Ma', 'Xu', 'Wang', 'Liu', 'Li', 'Lin', 'Smith', 'Jones', 'Jackson', \\\n",
    "        'James', 'Johnson', 'Oneal', 'Riley', 'Maxwell', 'Baker', 'Lenz', 'Goldstein', 'Feldman', \\\n",
    "        'Rothschild', 'Kruger', 'Lowenstein', 'Young', 'Parker', 'Morgan', 'Barker', 'Dunn', \\\n",
    "        'Bradley' 'Woods', 'Jordan', 'McGrady', 'Austin', 'Hogan', 'McGuiness', 'Park']\n",
    "    return np.random.choice(first) + ' ' + np.random.choice(last)\n",
    "\n",
    "def email_creator():\n",
    "    pre = ['dirty', 'milky', 'fishy', 'slimy', 'used', 'old', 'tired', 'slightly', 'mostly', \\\n",
    "        'found', 'lost', 'new', 'freshy', 'daily', 'buried', 'acient', 'retired', 'deep', 'moist', \\\n",
    "        'dry', 'hot', 'cold', 'folding', 'extra', 'replacement', 'clamy', 'soiled']\n",
    "    fix = ['bread', 'beans', 'bike', 'tire', 'blanket', 'rug', 'window', 'chrysler', 'jeep', \\\n",
    "        'sub', 'drum', 'snake', 'shoes', 'shirt', 'hat', 'jug', 'shack', 'tide', 'spice', 'cola', \\\n",
    "        'cup', 'skates']\n",
    "    provider = ['yahoo.com', 'gmail.com', 'outlook.com', 'qq.com', '163.com']\n",
    "    return np.random.choice(pre) + np.random.choice(fix) + str(np.random.randint(1,1000)) + '@' \\\n",
    "        + np.random.choice(provider)\n",
    "\n",
    "def get_grade(student,homework_number):\n",
    "    #get_grade reads the grade from a csv file and returns a score out of 10\n",
    "    email=student.email\n",
    "    homework_data_frame=pd.read_csv(directory+'/hwdata/HW'+str(homework_number)+'.csv')\n",
    "    student_data_frame=homework_data_frame[homework_data_frame['email']==email]\n",
    "    points=0\n",
    "    total=0\n",
    "    for key in student_data_frame.keys():\n",
    "        if student_data_frame.iloc[0][key] == 1:\n",
    "            points+=1\n",
    "            total+=1\n",
    "        if student_data_frame.iloc[0][key] == 0:\n",
    "            total+=1\n",
    "    return points/total*10\n",
    "\n",
    "def list_hash(email,number_of_problems,number_to_do):\n",
    "    problems=[]\n",
    "    value = hash(email)\n",
    "    problem_indices = list(range(number_of_problems))\n",
    "    while len(problems) < number_to_do and len(problem_indices) > 0:\n",
    "        problems.append(problem_indices.pop(value%len(problem_indices)))\n",
    "    problems.sort()\n",
    "    return problems\n",
    "\n",
    "def logistic(value):\n",
    "    return 1/(1+np.exp(-value))\n",
    "\n",
    "def problem_grader(student, problem):\n",
    "    #get info from problem\n",
    "    difficulty=problem.difficulty\n",
    "    topic=problem.topic\n",
    "    old_topic=problem.old_topic\n",
    "    #make sure topic and old topic are in the students topics\n",
    "    if not topic in student.topics.keys():\n",
    "        student.topics[topic]=-1+2*np.random.random()\n",
    "    if not old_topic in student.topics.keys():\n",
    "        student.topics[old_topic]=-1+2*np.random.random()\n",
    "    #convert from class parameters to actual parameters using the logistic equation\n",
    "    motivation_parameter = logistic(student.motivation)\n",
    "    intelligence_parameter = logistic(student.intelligence)\n",
    "    consistency_parameter = logistic(student.consistency)\n",
    "    ability_parameter = logistic(student.ability)\n",
    "    old_topic_parameter= logistic(student.topics[old_topic])\n",
    "    topic_parameter = logistic(student.topics[topic])\n",
    "    return (motivation_parameter*intelligence_parameter*topic_parameter*old_topic_parameter*\\\n",
    "            ability_parameter+(np.random.random()-0.5)/100/consistency_parameter) > (difficulty)**5\n",
    "\n",
    "def data_maker():\n",
    "    print('making data')\n",
    "    schools = {}\n",
    "    students = {}\n",
    "    homework = {}\n",
    "    #populate schools dictionary and write csv\n",
    "    school_names = ['Chandler', 'Ahwatukee', 'Scottsdale', 'Phoenix', 'Dallas', 'Washington D.C.', \\\n",
    "        'Beijing', 'Shanghai', 'Bangkok', 'Mesa']\n",
    "    file=open(directory+'/hwdata/schools.csv','w+')\n",
    "    file.write('school_name,school_quality\\r\\n')\n",
    "    for name in school_names:\n",
    "        schools[name]=School(name)\n",
    "        file.write(name+', '+str(schools[name].school_quality)+'\\r\\n')\n",
    "    file.close()\n",
    "    #populate students and school.students, write student.csv\n",
    "    file=open(directory+'/hwdata/students.csv','w+')\n",
    "    file.write('email,ability,intelligence,motivation,consistency\\r\\n')\n",
    "    for name in schools.keys():\n",
    "        number_of_students = 80 + np.random.randint(0,40)\n",
    "        school_quality = schools[name].school_quality\n",
    "        for n in range(number_of_students):\n",
    "            email = email_creator()\n",
    "            while email in students.keys():\n",
    "                email = email_creator()\n",
    "            real_name = real_name_creator()\n",
    "            user_name = user_name_creator()\n",
    "            password = password_creator()\n",
    "            schools[name].students[email]=Student_Profile(real_name, user_name, password, email, \\\n",
    "                name)\n",
    "            students[email]=Student(school_quality, email)\n",
    "            file.write(email+','+str(students[email].ability)+','+str(students[email].intelligence)\\\n",
    "                +','+str(students[email].motivation)+','+str(students[email].consistency)+'\\r\\n')\n",
    "    file.close()\n",
    "    #write student info\n",
    "    file=open(directory+'/hwdata/students_profile.csv','w+')\n",
    "    file.write('name,user_name,password,email,school_name\\r\\n')\n",
    "    for name in schools.keys():\n",
    "        for email in schools[name].students.keys():\n",
    "            real_name=schools[name].students[email].real_name\n",
    "            user_name=schools[name].students[email].user_name\n",
    "            password=schools[name].students[email].password\n",
    "            file.write(real_name+','+user_name+','+password+','+email+','+name+'\\r\\n')\n",
    "    file.close()\n",
    "    #populate homework problems\n",
    "    difficulties= [ [] for n in range(50) ]\n",
    "    topics=set(['pre1','pre2','pre3','pre4','pre5'])\n",
    "    for n in range(50):\n",
    "        homework[n+1] = Homework(n+1)\n",
    "        number_to_do = 7 + np.random.randint(0,10)\n",
    "        number_of_problems = 2*number_to_do\n",
    "        chapter = int(n/5) + 1\n",
    "        for m in range(number_of_problems):\n",
    "            topic = str(chapter) + '.' + str(6*n%10 + int(m/6))\n",
    "            old_topic=random.sample(topics,1)[0]\n",
    "            homework[n+1].topics.add(topic)\n",
    "            difficulty = np.random.normal(0.4,0.10)\n",
    "            difficulties[n].append(topic)\n",
    "            difficulties[n].append(old_topic)\n",
    "            difficulties[n].append('none')\n",
    "            difficulties[n].append(str(difficulty))\n",
    "            homework[n+1].problem_set.append(Problem(topic, old_topic, 'none', difficulty))\n",
    "        for topic in homework[n+1].topics:\n",
    "            topics.add(topic)\n",
    "    #simulate homework problems\n",
    "    line='homework_number,number_of_problems_to_do,number_of_problems'\n",
    "    for n in range(1,35):\n",
    "        line+=',p'+str(n)+'t,p'+str(n)+'ot,p'+str(n)+'ds,p'+str(n)+'d'\n",
    "    line+='\\r\\n'\n",
    "    homework_info_lines=[line]\n",
    "    for homework_number in tqdm(range(1,51)):\n",
    "        file_lines = []\n",
    "        grade_lines = []\n",
    "        number_of_problems = len(homework[homework_number].problem_set)\n",
    "        problems_to_do = int(number_of_problems/2)\n",
    "        line=str(homework_number) + ',' + str(problems_to_do) + ',' \\\n",
    "            + str(number_of_problems)\n",
    "        for problem_number in range(number_of_problems):\n",
    "            topic=homework[homework_number].problem_set[problem_number].topic\n",
    "            old_topic=homework[homework_number].problem_set[problem_number].old_topic\n",
    "            discipline=homework[homework_number].problem_set[problem_number].discipline\n",
    "            difficulty=homework[homework_number].problem_set[problem_number].difficulty\n",
    "            line+=','+topic+','+old_topic+','+discipline+','+str(difficulty)\n",
    "        line+='\\r\\n'\n",
    "        homework_info_lines.append(line)\n",
    "        file_columns='email'\n",
    "        for n in range(number_of_problems):\n",
    "            file_columns+=(',p'+str(n+1))\n",
    "        file_columns+='\\r\\n'\n",
    "        file_lines.append(file_columns)\n",
    "        for school_name in schools.keys():\n",
    "            for email in schools[school_name].students.keys():\n",
    "                problems_for_student = list_hash(email,number_of_problems,problems_to_do)\n",
    "                scores = ['2' for n in range(number_of_problems)]\n",
    "                for index in problems_for_student:\n",
    "                    topic=homework[homework_number].problem_set[index].topic\n",
    "                    old_topic=homework[homework_number].problem_set[index].old_topic\n",
    "                    difficulty=homework[homework_number].problem_set[index].difficulty\n",
    "                    score=problem_grader(students[email],\\\n",
    "                        homework[homework_number].problem_set[index])\n",
    "                    students[email].problem_update(score,topic,old_topic,difficulty)\n",
    "                    #second attempt\n",
    "                    if score == False:\n",
    "                        score=problem_grader(students[email],homework[homework_number].problem_set[index])\n",
    "                        students[email].problem_update(score,topic,old_topic,difficulty)\n",
    "                    scores[index]=str(int(score))\n",
    "                grade_lines.append(email+','+','.join(scores)+'\\r\\n')\n",
    "                #improving ability based on results\n",
    "                for index in problems_for_student:\n",
    "                    students[email].problem_update(scores[index],topic,old_topic,\\\n",
    "                        homework[homework_number].problem_set[index].difficulty)\n",
    "        while len(grade_lines)>1:\n",
    "            file_lines.append(grade_lines.pop(np.random.randint(0,len(grade_lines)-1)))\n",
    "        file_lines.append(grade_lines.pop())\n",
    "        file = open(directory+'/hwdata/HW' + str(homework_number) + '.csv','w+')\n",
    "        for line in file_lines:\n",
    "            file.write(line)\n",
    "        file.close()\n",
    "    file=open(directory+'/hwdata/HWS.csv','w+')\n",
    "    for line in homework_info_lines:\n",
    "        file.write(line)\n",
    "    file.close()\n",
    "    probability_writer()\n",
    "\n",
    "def probability_writer():\n",
    "    print('writing probability')\n",
    "    line1='name'\n",
    "    line2='name'\n",
    "    for n in range(1,35):\n",
    "        line1+=',p'+str(n)\n",
    "        line2+=',p'+str(n)+'a,p'+str(n)+'c'\n",
    "    line1+='\\r\\n'\n",
    "    line2+='\\r\\n'\n",
    "    file_lines1=[line1]\n",
    "    file_lines2=[line2]\n",
    "    for homework_number in range(1,51):\n",
    "        line1='HW'+str(homework_number)\n",
    "        line2='HW'+str(homework_number)\n",
    "        data_frame=pd.read_csv(directory+'/hwdata/HW'+str(homework_number)+'.csv')\n",
    "        for problem_number in range(1,len(data_frame.keys())):\n",
    "            right=len(data_frame[data_frame['p'+str(problem_number)]==1])\n",
    "            total=len(data_frame[data_frame['p'+str(problem_number)]!=2])\n",
    "            line1+=','+str(right/total)\n",
    "            line2+=','+str(total)+','+str(right)\n",
    "        line1+='\\r\\n'\n",
    "        line2+='\\r\\n'\n",
    "        file_lines1.append(line1)\n",
    "        file_lines2.append(line2)\n",
    "    file=open(directory+'/hwdata/HW_Probabilities.csv','w+')\n",
    "    for line in file_lines1:\n",
    "        file.write(line)\n",
    "    file.close()\n",
    "    file=open(directory+'/hwdata/HW_Problem_History.csv','w+')\n",
    "    for line in file_lines2:\n",
    "        file.write(line)\n",
    "    file.close()\n",
    "\n",
    "def data_loader():\n",
    "    schools = {}\n",
    "    students = {}\n",
    "    student_profiles={}\n",
    "    homeworks = {}\n",
    "    data_frame=pd.read_csv(directory+'/hwdata/schools.csv')\n",
    "    for n in range(data_frame.shape[0]):\n",
    "        school_name=data_frame.iloc[n]['school_name']\n",
    "        schools[school_name]=School(school_name)\n",
    "        schools[school_name].school_quality=data_frame.iloc[n]['school_quality']\n",
    "    data_frame=pd.read_csv(directory+'/hwdata/students.csv')\n",
    "    for n in range(data_frame.shape[0]):\n",
    "        email=data_frame.iloc[n]['email']\n",
    "        students[email]=Student(0,email)\n",
    "        students[email].ability=data_frame.iloc[n]['ability']\n",
    "        students[email].intelligence=data_frame.iloc[n]['intelligence']\n",
    "        students[email].motivation=data_frame.iloc[n]['motivation']\n",
    "        students[email].consistency=data_frame.iloc[n]['consistency']\n",
    "    data_frame=pd.read_csv(directory+'/hwdata/students_profile.csv')\n",
    "    for n in range(data_frame.shape[0]):\n",
    "        school_name=data_frame.iloc[n]['school_name']\n",
    "        email=data_frame.iloc[n]['email']\n",
    "        schools[school_name].students[email]=students[email]\n",
    "    for n in range(data_frame.shape[0]):\n",
    "        email=data_frame.iloc[n]['email']\n",
    "        real_name=data_frame.iloc[n]['name']\n",
    "        user_name=data_frame.iloc[n]['user_name']\n",
    "        password=data_frame.iloc[n]['password']\n",
    "        school_name=data_frame.iloc[n]['school_name']\n",
    "        student_profiles[email]=Student_Profile(real_name,user_name,password,email,school_name)\n",
    "    data_frame=pd.read_csv(directory+'/hwdata/HWS.csv')\n",
    "    for n in range(50):\n",
    "        homeworks['HW'+str(n+1)]=Homework(n+1)\n",
    "        number_of_problems=data_frame.iloc[n]['number_of_problems']\n",
    "        for m in range(number_of_problems):\n",
    "            topic=str(data_frame.iloc[n]['p'+str(m+1)+'t'])\n",
    "            old_topic=data_frame.iloc[n]['p'+str(m+1)+'t']\n",
    "            discipline=data_frame.iloc[n]['p'+str(m+1)+'ds']\n",
    "            difficulty=data_frame.iloc[n]['p'+str(m+1)+'d']\n",
    "            homeworks['HW'+str(n+1)].topics.add(topic)\n",
    "            problem=Problem(topic,old_topic,discipline,difficulty)\n",
    "            homeworks['HW'+str(n+1)].problem_set.append(problem)\n",
    "    return [schools,students,student_profiles,homeworks]    \n",
    "    \n",
    "def just_make_a_graph_data_maker_results():\n",
    "    grades=[]\n",
    "    data=data_loader()\n",
    "    students=data[1]\n",
    "    homeworks=data[0]\n",
    "    for n in range(len(homeworks.keys())):\n",
    "        for email in students.keys():\n",
    "            grades.append(get_grade(students[email],n+1))\n",
    "    print(\"mean without a focus on the student's weaknesses\",sum(grades)/len(grades))\n",
    "    plt.hist(grades,bins=20)\n",
    "    plt.title('Homework Grades Without Focus')\n",
    "    plt.xlabel('Grades')\n",
    "    plt.ylabel('Occurences')\n",
    "    plt.show()\n",
    "    \n",
    "def get_grades():\n",
    "    grades=[]\n",
    "    data=data_loader()\n",
    "    students=data[1]\n",
    "    homeworks=data[0]\n",
    "    for n in range(len(homeworks.keys())):\n",
    "        for email in students.keys():\n",
    "            grades.append(get_grade(students[email],n+1))\n",
    "    return grades\n",
    "\n",
    "def list_hash_focus(email,number_of_problems,number_to_do,homework_number,homework_data):\n",
    "    if homework_number<5:\n",
    "        problems=list_hash(email,number_of_problems,number_to_do)\n",
    "    else:\n",
    "        focus_topics=[]\n",
    "        line=homework_data[homework_data['homework_number']==homework_number]\n",
    "        possible_problems=list(range(number_of_problems))\n",
    "        for n in range(homework_number-3,homework_number):\n",
    "            homework_scores=pd.read_csv(directory+'/hwdata/HW'+str(homework_number)+'_focus.csv')\n",
    "            scores=list(homework_scores[homework_scores['email']==email].values[0][1:])\n",
    "            homework_line=homework_data[homework_data['homework_number']==n]\n",
    "            for m in range(len(scores)):\n",
    "                topic=homework_line['p'+str(m+1)+'t'].values[0]\n",
    "                old_topic=homework_line['p'+str(m+1)+'ot'].values[0]\n",
    "                if scores[m]==0 and not topic in focus_topics:\n",
    "                    focus_topics.append(topic)\n",
    "                if scores[m]==0 and not old_topic in focus_topics:\n",
    "                    focus_topics.append(old_topic)\n",
    "        random.seed(42)\n",
    "        best_score=0\n",
    "        problems=[]\n",
    "        for n in range(10**3):\n",
    "            test_score=0\n",
    "            test_problems=random.sample(possible_problems,number_to_do)\n",
    "            for m in range(number_to_do):\n",
    "                if line['p'+str(test_problems[m]+1)+'ot'].values[0] in focus_topics:\n",
    "                    test_score+=1\n",
    "            if test_score >= best_score:\n",
    "                best_score=test_score\n",
    "                problems=test_problems\n",
    "    return problems\n",
    "\n",
    "def data_maker_focus():\n",
    "    print('making data')\n",
    "    data_loaded=data_loader()\n",
    "    schools=data_loaded[0]\n",
    "    students=data_loaded[1]\n",
    "    student_profiles=data_loaded[2]\n",
    "    homework=data_loaded[3]\n",
    "    homework_data=pd.read_csv(directory+'/hwdata/HWS.csv')\n",
    "    #simulate homework problems\n",
    "    for homework_number in tqdm(range(1,51)):\n",
    "        file_lines = []\n",
    "        grade_lines = []\n",
    "        number_of_problems = len(homework['HW'+str(homework_number)].problem_set)\n",
    "        problems_to_do = int(number_of_problems/2)\n",
    "        file_columns='email'\n",
    "        for n in range(number_of_problems):\n",
    "            file_columns+=(',p'+str(n+1))\n",
    "        file_columns+='\\r\\n'\n",
    "        file_lines.append(file_columns)\n",
    "        for school_name in schools.keys():\n",
    "            for email in schools[school_name].students.keys():\n",
    "                \n",
    "                problems_for_student = list_hash_focus(email,number_of_problems,problems_to_do,homework_number,homework_data)\n",
    "                \n",
    "                scores = ['2' for n in range(number_of_problems)]\n",
    "                for index in problems_for_student:\n",
    "                    topic=homework['HW'+str(homework_number)].problem_set[index].topic\n",
    "                    old_topic=homework['HW'+str(homework_number)].problem_set[index].old_topic\n",
    "                    difficulty=homework['HW'+str(homework_number)].problem_set[index].difficulty\n",
    "                    score=problem_grader(students[email],\\\n",
    "                        homework['HW'+str(homework_number)].problem_set[index])\n",
    "                    students[email].problem_update(score,topic,old_topic,difficulty)\n",
    "                    #second attempt\n",
    "                    if score == False:\n",
    "                        score=problem_grader(students[email],homework['HW'+str(homework_number)].problem_set[index])\n",
    "                        students[email].problem_update(score,topic,old_topic,difficulty)\n",
    "                    scores[index]=str(int(score))\n",
    "                grade_lines.append(email+','+','.join(scores)+'\\r\\n')\n",
    "                #improving ability based on results\n",
    "                for index in problems_for_student:\n",
    "                    students[email].problem_update(scores[index],topic,old_topic,\\\n",
    "                        homework['HW'+str(homework_number)].problem_set[index].difficulty)\n",
    "        while len(grade_lines)>1:\n",
    "            file_lines.append(grade_lines.pop(np.random.randint(0,len(grade_lines)-1)))\n",
    "        file_lines.append(grade_lines.pop())\n",
    "        file = open(directory+'/hwdata/HW' + str(homework_number) + '_focus.csv','w+')\n",
    "        for line in file_lines:\n",
    "            file.write(line)\n",
    "        file.close()\n",
    "\n",
    "def get_grade_focus(student,homework_number):\n",
    "    #get_grade reads the grade from a csv file and returns a score out of 10\n",
    "    email=student.email\n",
    "    homework_data_frame=pd.read_csv(directory+'/hwdata/HW'+str(homework_number)+'_focus.csv')\n",
    "    student_data_frame=homework_data_frame[homework_data_frame['email']==email]\n",
    "    points=0\n",
    "    total=0\n",
    "    for key in student_data_frame.keys():\n",
    "        if student_data_frame.iloc[0][key] == 1:\n",
    "            points+=1\n",
    "            total+=1\n",
    "        if student_data_frame.iloc[0][key] == 0:\n",
    "            total+=1\n",
    "    return points/total*10\n",
    "\n",
    "def get_grades_focus():\n",
    "    grades=[]\n",
    "    data=data_loader_focus()\n",
    "    students=data[1]\n",
    "    homeworks=data[0]\n",
    "    for n in range(len(homeworks.keys())):\n",
    "        for email in students.keys():\n",
    "            grades.append(get_grade_focus(students[email],n+1))\n",
    "    return grades\n",
    "\n",
    "def data_loader_focus():\n",
    "    schools = {}\n",
    "    students = {}\n",
    "    student_profiles={}\n",
    "    homeworks = {}\n",
    "    data_frame=pd.read_csv(directory+'/hwdata/schools.csv')\n",
    "    for n in range(data_frame.shape[0]):\n",
    "        school_name=data_frame.iloc[n]['school_name']\n",
    "        schools[school_name]=School(school_name)\n",
    "        schools[school_name].school_quality=data_frame.iloc[n]['school_quality']\n",
    "    data_frame=pd.read_csv(directory+'/hwdata/students.csv')\n",
    "    for n in range(data_frame.shape[0]):\n",
    "        email=data_frame.iloc[n]['email']\n",
    "        students[email]=Student(0,email)\n",
    "        students[email].ability=data_frame.iloc[n]['ability']\n",
    "        students[email].intelligence=data_frame.iloc[n]['intelligence']\n",
    "        students[email].motivation=data_frame.iloc[n]['motivation']\n",
    "        students[email].consistency=data_frame.iloc[n]['consistency']\n",
    "    data_frame=pd.read_csv(directory+'/hwdata/students_profile.csv')\n",
    "    for n in range(data_frame.shape[0]):\n",
    "        school_name=data_frame.iloc[n]['school_name']\n",
    "        email=data_frame.iloc[n]['email']\n",
    "        schools[school_name].students[email]=students[email]\n",
    "    for n in range(data_frame.shape[0]):\n",
    "        email=data_frame.iloc[n]['email']\n",
    "        real_name=data_frame.iloc[n]['name']\n",
    "        user_name=data_frame.iloc[n]['user_name']\n",
    "        password=data_frame.iloc[n]['password']\n",
    "        school_name=data_frame.iloc[n]['school_name']\n",
    "        student_profiles[email]=Student_Profile(real_name,user_name,password,email,school_name)\n",
    "    data_frame=pd.read_csv(directory+'/hwdata/HWS.csv')\n",
    "    for n in range(50):\n",
    "        homeworks['HW'+str(n+1)]=Homework(n+1)\n",
    "        number_of_problems=data_frame.iloc[n]['number_of_problems']\n",
    "        for m in range(number_of_problems):\n",
    "            topic=str(data_frame.iloc[n]['p'+str(m+1)+'t'])\n",
    "            old_topic=data_frame.iloc[n]['p'+str(m+1)+'t']\n",
    "            discipline=data_frame.iloc[n]['p'+str(m+1)+'ds']\n",
    "            difficulty=data_frame.iloc[n]['p'+str(m+1)+'d']\n",
    "            homeworks['HW'+str(n+1)].topics.add(topic)\n",
    "            problem=Problem(topic,old_topic,discipline,difficulty)\n",
    "            homeworks['HW'+str(n+1)].problem_set.append(problem)\n",
    "    return [schools,students,student_profiles,homeworks] \n",
    "\n",
    "def just_make_a_graph_data_maker_results_focus():\n",
    "    grades=[]\n",
    "    data=data_loader_focus()\n",
    "    students=data[1]\n",
    "    homeworks=data[0]\n",
    "    for n in range(len(homeworks.keys())):\n",
    "        for email in students.keys():\n",
    "            grades.append(get_grade_focus(students[email],n+1))\n",
    "    print(\"mean with a focus on the student's weaknesses\",sum(grades)/len(grades))\n",
    "    plt.hist(grades,bins=20)\n",
    "    plt.title('Homework Grades With Focus')\n",
    "    plt.xlabel('Grades')\n",
    "    plt.ylabel('Occurences')\n",
    "    plt.show()\n",
    "    \n",
    "def get_grades_total():\n",
    "    grades=[]\n",
    "    data=data_loader_focus()\n",
    "    students=data[1]\n",
    "    homeworks=data[0]\n",
    "    for n in range(len(homeworks.keys())):\n",
    "        for email in students.keys():\n",
    "            grades.append(get_grade_focus(students[email],n+1))\n",
    "            grades.append(get_grade(students[email],n+1))\n",
    "    return grades\n",
    "\n",
    "def just_make_a_graph_data_maker_results_total(grades):\n",
    "    print('mean with all grades',sum(grades)/len(grades))\n",
    "    plt.hist(grades,bins=20)\n",
    "    plt.title('Homework Grades Total Results')\n",
    "    plt.xlabel('Grades')\n",
    "    plt.ylabel('Occurences')\n",
    "    plt.show()"
   ]
  },
  {
   "cell_type": "markdown",
   "metadata": {},
   "source": [
    "<h1>Complete Grades</h1>"
   ]
  },
  {
   "cell_type": "code",
   "execution_count": 69,
   "metadata": {},
   "outputs": [
    {
     "name": "stdout",
     "output_type": "stream",
     "text": [
      "making data\n"
     ]
    },
    {
     "data": {
      "application/vnd.jupyter.widget-view+json": {
       "model_id": "2a6406b3b5cd4cada95536e4fa347a9b",
       "version_major": 2,
       "version_minor": 0
      },
      "text/plain": [
       "HBox(children=(IntProgress(value=0, max=50), HTML(value='')))"
      ]
     },
     "metadata": {},
     "output_type": "display_data"
    },
    {
     "name": "stdout",
     "output_type": "stream",
     "text": [
      "\n",
      "writing probability\n"
     ]
    }
   ],
   "source": [
    "data_maker()"
   ]
  },
  {
   "cell_type": "code",
   "execution_count": 127,
   "metadata": {},
   "outputs": [
    {
     "name": "stdout",
     "output_type": "stream",
     "text": [
      "mean without a focus on the student's weaknesses 9.280552654785483\n"
     ]
    },
    {
     "data": {
      "image/png": "[encoded data removed]",
      "text/plain": [
       "<Figure size 432x288 with 1 Axes>"
      ]
     },
     "metadata": {
      "needs_background": "light"
     },
     "output_type": "display_data"
    }
   ],
   "source": [
    "just_make_a_graph_data_maker_results()"
   ]
  },
  {
   "cell_type": "code",
   "execution_count": 96,
   "metadata": {},
   "outputs": [
    {
     "name": "stdout",
     "output_type": "stream",
     "text": [
      "making data\n"
     ]
    },
    {
     "data": {
      "application/vnd.jupyter.widget-view+json": {
       "model_id": "ff5cdfc659ac4465a6aeaf64d2c01eee",
       "version_major": 2,
       "version_minor": 0
      },
      "text/plain": [
       "HBox(children=(IntProgress(value=0, max=50), HTML(value='')))"
      ]
     },
     "metadata": {},
     "output_type": "display_data"
    }
   ],
   "source": [
    "data_maker_focus()"
   ]
  },
  {
   "cell_type": "code",
   "execution_count": 128,
   "metadata": {},
   "outputs": [
    {
     "name": "stdout",
     "output_type": "stream",
     "text": [
      "mean with a focus on the student's weaknesses 9.184037833782416\n"
     ]
    },
    {
     "data": {
      "image/png": "[encoded data removed]",
      "text/plain": [
       "<Figure size 432x288 with 1 Axes>"
      ]
     },
     "metadata": {
      "needs_background": "light"
     },
     "output_type": "display_data"
    }
   ],
   "source": [
    "just_make_a_graph_data_maker_results_focus()"
   ]
  },
  {
   "cell_type": "code",
   "execution_count": 129,
   "metadata": {},
   "outputs": [
    {
     "name": "stdout",
     "output_type": "stream",
     "text": [
      "mean with all grades 9.232295244283483\n"
     ]
    },
    {
     "data": {
      "image/png": "[encoded data removed]",
      "text/plain": [
       "<Figure size 432x288 with 1 Axes>"
      ]
     },
     "metadata": {
      "needs_background": "light"
     },
     "output_type": "display_data"
    }
   ],
   "source": [
    "grades_total=get_grades_total()\n",
    "just_make_a_graph_data_maker_results_total(grades_total)"
   ]
  },
  {
   "cell_type": "code",
   "execution_count": 116,
   "metadata": {},
   "outputs": [
    {
     "data": {
      "application/vnd.jupyter.widget-view+json": {
       "model_id": "ad6d51f2cc6d40278fc51c522e35362d",
       "version_major": 2,
       "version_minor": 0
      },
      "text/plain": [
       "HBox(children=(IntProgress(value=0, max=1000000), HTML(value='')))"
      ]
     },
     "metadata": {},
     "output_type": "display_data"
    },
    {
     "name": "stdout",
     "output_type": "stream",
     "text": [
      "p= 0\n"
     ]
    }
   ],
   "source": [
    "grades_total=np.array(grades_total)\n",
    "size=int(len(grades_total)/2)\n",
    "trials=10**6\n",
    "grades_mean=9.280552654785483\n",
    "grades_with_focus_mean=9.184037833782416\n",
    "mean_diffs=np.empty(trials)\n",
    "for trial in tqdm(range(trials)):\n",
    "    sample_1=np.random.choice(grades_total,size,replace=True)\n",
    "    sample_2=np.random.choice(grades_total,size,replace=True)\n",
    "    mean_diffs[trial]=np.mean(sample_1)-np.mean(sample_2)\n",
    "p=np.sum(mean_diffs>=grades_mean-grades_with_focus_mean)\n",
    "print('p =',p)"
   ]
  },
  {
   "cell_type": "code",
   "execution_count": 117,
   "metadata": {},
   "outputs": [
    {
     "data": {
      "image/png": "[encoded data removed]",
      "text/plain": [
       "<Figure size 432x288 with 1 Axes>"
      ]
     },
     "metadata": {
      "needs_background": "light"
     },
     "output_type": "display_data"
    }
   ],
   "source": [
    "    plt.hist(mean_diffs,bins=20)\n",
    "    plt.title('Difference of Means')\n",
    "    plt.xlabel('Differences')\n",
    "    plt.ylabel('Occurences')\n",
    "    plt.show()"
   ]
  },
  {
   "cell_type": "markdown",
   "metadata": {},
   "source": [
    "<h1>Final Homework</h1>"
   ]
  },
  {
   "cell_type": "code",
   "execution_count": 130,
   "metadata": {},
   "outputs": [
    {
     "name": "stdout",
     "output_type": "stream",
     "text": [
      "last homework grades for students with focus  9.308804418453546\n"
     ]
    },
    {
     "data": {
      "image/png": "[encoded data removed]",
      "text/plain": [
       "<Figure size 432x288 with 1 Axes>"
      ]
     },
     "metadata": {
      "needs_background": "light"
     },
     "output_type": "display_data"
    },
    {
     "name": "stdout",
     "output_type": "stream",
     "text": [
      "last homework grades for students without focus  9.464749837556854\n"
     ]
    },
    {
     "data": {
      "image/png": "[encoded data removed]",
      "text/plain": [
       "<Figure size 432x288 with 1 Axes>"
      ]
     },
     "metadata": {
      "needs_background": "light"
     },
     "output_type": "display_data"
    }
   ],
   "source": [
    "grades_total=[]\n",
    "grades_without_focus=[]\n",
    "grades_with_focus=[]\n",
    "data=data_loader_focus()\n",
    "students=data[1]\n",
    "homeworks=data[0]\n",
    "for email in students.keys():\n",
    "    grades_with_focus.append(get_grade_focus(students[email],n+1))\n",
    "    grades_without_focus.append(get_grade(students[email],n+1))\n",
    "    grades_total.append(get_grade_focus(students[email],n+1))\n",
    "    grades_total.append(get_grade(students[email],n+1))\n",
    "\n",
    "\n",
    "\n",
    "print('last homework grades for students with focus ',sum(grades_with_focus)/len(grades_with_focus))\n",
    "plt.hist(grades_with_focus,bins=20)\n",
    "plt.title('Final Homework Grades With Focus')\n",
    "plt.xlabel('Grades')\n",
    "plt.ylabel('Occurences')\n",
    "plt.show()\n",
    "\n",
    "print('last homework grades for students without focus ',sum(grades_without_focus)/len(grades_without_focus))\n",
    "plt.hist(grades_with_focus,bins=20)\n",
    "plt.title('Final Homework Grades Without Focus')\n",
    "plt.xlabel('Grades')\n",
    "plt.ylabel('Occurences')\n",
    "plt.show()"
   ]
  },
  {
   "cell_type": "code",
   "execution_count": 124,
   "metadata": {},
   "outputs": [
    {
     "data": {
      "application/vnd.jupyter.widget-view+json": {
       "model_id": "028568a6c46749e4aa1403864d72a851",
       "version_major": 2,
       "version_minor": 0
      },
      "text/plain": [
       "HBox(children=(IntProgress(value=0, max=10000), HTML(value='')))"
      ]
     },
     "metadata": {},
     "output_type": "display_data"
    },
    {
     "name": "stdout",
     "output_type": "stream",
     "text": [
      "p= 0\n"
     ]
    }
   ],
   "source": [
    "trials=10**4\n",
    "mean_with_focus=np.mean(grades_with_focus)\n",
    "mean_without_focus=np.mean(grades_without_focus)\n",
    "mean_diffs=np.empty(trials)\n",
    "for trial in tqdm(range(trials)):\n",
    "    sample_1=np.random.choice(grades_total,size,replace=True)\n",
    "    sample_2=np.random.choice(grades_total,size,replace=True)\n",
    "    mean_diffs[trial]=np.mean(sample_1)-np.mean(sample_2)\n",
    "p=np.sum(mean_diffs>=mean_without_focus-mean_with_focus)\n",
    "print('p=',p)"
   ]
  },
  {
   "cell_type": "code",
   "execution_count": null,
   "metadata": {},
   "outputs": [],
   "source": []
  }
 ],
 "metadata": {
  "kernelspec": {
   "display_name": "Python 3",
   "language": "python",
   "name": "python3"
  },
  "language_info": {
   "codemirror_mode": {
    "name": "ipython",
    "version": 3
   },
   "file_extension": ".py",
   "mimetype": "text/x-python",
   "name": "python",
   "nbconvert_exporter": "python",
   "pygments_lexer": "ipython3",
   "version": "3.6.8"
  }
 },
 "nbformat": 4,
 "nbformat_minor": 2
}
